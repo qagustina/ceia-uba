{
  "nbformat": 4,
  "nbformat_minor": 0,
  "metadata": {
    "colab": {
      "provenance": [],
      "collapsed_sections": [
        "WuW7616vKWgO",
        "j3rdSmuEx0Ig",
        "Ou9GUuSRyTPL",
        "P-HqBtekyY-7",
        "ZqW_pUVHyd7H",
        "OxsIpTNF9fcd",
        "2_9r24e89lJK",
        "ny5HWXT49sBY",
        "g0_d3nxT9vkq",
        "b2Zld8OQ9PQe",
        "pAUx_-jB6n6N",
        "cHiKfl-X6vF7",
        "U7oPeQ0z-pux"
      ],
      "toc_visible": true
    },
    "kernelspec": {
      "name": "python3",
      "display_name": "Python 3"
    },
    "language_info": {
      "name": "python"
    }
  },
  "cells": [
    {
      "cell_type": "markdown",
      "source": [
        "# Análisis Matemático para Inteligencia Artificial - CEIA Coh17 (UBA)\n",
        "\n",
        "Integrantes:\n",
        "\n",
        "Agustín de la Vega (delavega.agus@gmail.com)\n",
        "\n",
        "Florentino Arias (florito.arias@gmail.com)\n",
        "\n",
        "Agustina Quiros (agustinaqr@gmail.com)\n",
        "\n",
        "Matías Cardozo Pittana (cardozo.matiasp@gmail.com)\n",
        "\n",
        "Paola Cartalá (paola.cartala@gmail.com)"
      ],
      "metadata": {
        "id": "a3w2VJySDIsB"
      }
    },
    {
      "cell_type": "markdown",
      "source": [
        "# Trabajo Práctico Final: Linear/Quadratic Discriminant Analysis (LDA/QDA)\n",
        "\n",
        "### Definición: Clasificador Bayesiano\n",
        "\n",
        "Sean $k$ poblaciones, $x \\in \\mathbb{R}^p$ puede pertenecer a cualquiera $g \\in \\mathcal{G}$ de ellas. Bajo un esquema bayesiano, se define entonces $\\pi_j \\doteq P(G = j)$ la probabilidad *a priori* de que $X$ pertenezca a la clase *j*, y se **asume conocida** la distribución condicional de cada observable dado su clase $f_j \\doteq f_{X|G=j}$.\n",
        "\n",
        "De esta manera dicha probabilidad *a posteriori* resulta\n",
        "$$\n",
        "P(G|_{X=x} = j) = \\frac{f_{X|G=j}(x) \\cdot p_G(j)}{f_X(x)} \\propto f_j(x) \\cdot \\pi_j\n",
        "$$\n",
        "\n",
        "La regla de decisión de Bayes es entonces\n",
        "$$\n",
        "H(x) \\doteq \\arg \\max_{g \\in \\mathcal{G}} \\{ P(G|_{X=x} = j) \\} = \\arg \\max_{g \\in \\mathcal{G}} \\{ f_j(x) \\cdot \\pi_j \\}\n",
        "$$\n",
        "\n",
        "es decir, se predice a $x$ como perteneciente a la población $j$ cuya probabilidad a posteriori es máxima.\n",
        "\n",
        "*Ojo, a no desesperar! $\\pi_j$ no es otra cosa que una constante prefijada, y $f_j$ es, en su esencia, un campo escalar de $x$ a simplemente evaluar.*\n",
        "\n",
        "### Distribución condicional\n",
        "\n",
        "Para los clasificadores de discriminante cuadrático y lineal (QDA/LDA) se asume que $X|_{G=j} \\sim \\mathcal{N}_p(\\mu_j, \\Sigma_j)$, es decir, se asume que cada población sigue una distribución normal.\n",
        "\n",
        "Por definición, se tiene entonces que para una clase $j$:\n",
        "$$\n",
        "f_j(x) = \\frac{1}{(2 \\pi)^\\frac{p}{2} \\cdot |\\Sigma_j|^\\frac{1}{2}} e^{- \\frac{1}{2}(x-\\mu_j)^T \\Sigma_j^{-1} (x- \\mu_j)}\n",
        "$$\n",
        "\n",
        "Aplicando logaritmo (que al ser una función estrictamente creciente no afecta el cálculo de máximos/mínimos), queda algo mucho más práctico de trabajar:\n",
        "\n",
        "$$\n",
        "\\log{f_j(x)} = -\\frac{1}{2}\\log |\\Sigma_j| - \\frac{1}{2} (x-\\mu_j)^T \\Sigma_j^{-1} (x- \\mu_j) + C\n",
        "$$\n",
        "\n",
        "Observar que en este caso $C=-\\frac{p}{2} \\log(2\\pi)$, pero no se tiene en cuenta ya que al tener una constante aditiva en todas las clases, no afecta al cálculo del máximo.\n",
        "\n",
        "### LDA\n",
        "\n",
        "En el caso de LDA se hace una suposición extra, que es $X|_{G=j} \\sim \\mathcal{N}_p(\\mu_j, \\Sigma)$, es decir que las poblaciones no sólo siguen una distribución normal sino que son de igual matriz de covarianzas. Reemplazando arriba se obtiene entonces:\n",
        "\n",
        "$$\n",
        "\\log{f_j(x)} =  -\\frac{1}{2}\\log |\\Sigma| - \\frac{1}{2} (x-\\mu_j)^T \\Sigma^{-1} (x- \\mu_j) + C\n",
        "$$\n",
        "\n",
        "Ahora, como $-\\frac{1}{2}\\log |\\Sigma|$ es común a todas las clases se puede incorporar a la constante aditiva y, distribuyendo y reagrupando términos sobre $(x-\\mu_j)^T \\Sigma^{-1} (x- \\mu_j)$ se obtiene finalmente:\n",
        "\n",
        "$$\n",
        "\\log{f_j(x)} =  \\mu_j^T \\Sigma^{-1} (x- \\frac{1}{2} \\mu_j) + C'\n",
        "$$\n",
        "\n",
        "### Entrenamiento/Ajuste\n",
        "\n",
        "Obsérvese que para ambos modelos, ajustarlos a los datos implica estimar los parámetros $(\\mu_j, \\Sigma_j) \\; \\forall j = 1, \\dots, k$ en el caso de QDA, y $(\\mu_j, \\Sigma)$ para LDA.\n",
        "\n",
        "Estos parámetros se estiman por máxima verosimilitud, de manera que los estimadores resultan:\n",
        "\n",
        "* $\\hat{\\mu}_j = \\bar{x}_j$ el promedio de los $x$ de la clase *j*\n",
        "* $\\hat{\\Sigma}_j = s^2_j$ la matriz de covarianzas estimada para cada clase *j*\n",
        "* $\\hat{\\pi}_j = f_{R_j} = \\frac{n_j}{n}$ la frecuencia relativa de la clase *j* en la muestra\n",
        "* $\\hat{\\Sigma} = \\frac{1}{n} \\sum_{j=1}^k n_j \\cdot s^2_j$ el promedio ponderado (por frecs. relativas) de las matrices de covarianzas de todas las clases. *Observar que se utiliza el estimador de MV y no el insesgado*\n",
        "\n",
        "Es importante notar que si bien todos los $\\mu, \\Sigma$ deben ser estimados, la distribución *a priori* puede no inferirse de los datos sino asumirse previamente, utilizándose como entrada del modelo.\n",
        "\n",
        "### Predicción\n",
        "\n",
        "Para estos modelos, al igual que para cualquier clasificador Bayesiano del tipo antes visto, la estimación de la clase es por método *plug-in* sobre la regla de decisión $H(x)$, es decir devolver la clase que maximiza $\\hat{f}_j(x) \\cdot \\hat{\\pi}_j$, o lo que es lo mismo $\\log\\hat{f}_j(x) + \\log\\hat{\\pi}_j$."
      ],
      "metadata": {
        "id": "bpJ7s_SIVu_I"
      }
    },
    {
      "cell_type": "markdown",
      "source": [
        "## Estructura del código"
      ],
      "metadata": {
        "id": "5TDWOgpJWKQa"
      }
    },
    {
      "cell_type": "markdown",
      "source": [
        "## Modelo"
      ],
      "metadata": {
        "id": "6yEV8WbiWl6k"
      }
    },
    {
      "cell_type": "code",
      "source": [
        "import numpy as np\n",
        "from numpy.linalg import det, inv"
      ],
      "metadata": {
        "id": "teF9O9JJmG7Z"
      },
      "execution_count": null,
      "outputs": []
    },
    {
      "cell_type": "code",
      "source": [
        "class ClassEncoder:\n",
        "  def fit(self, y):\n",
        "    self.names = np.unique(y)\n",
        "    self.name_to_class = {name:idx for idx, name in enumerate(self.names)}\n",
        "    self.fmt = y.dtype\n",
        "    # Q1: por que no hace falta definir un class_to_name para el mapeo inverso? (se puede hacer mapeo de idx a name con self.names[idx])\n",
        "\n",
        "  # Apply function f to matrix arr (flat to apply, then reshape)\n",
        "  def _map_reshape(self, f, arr):\n",
        "    return np.array([f(elem) for elem in arr.flatten()]).reshape(arr.shape)\n",
        "    # Q2: por que hace falta un reshape?\n",
        "\n",
        "  # Apply map_reshape to each item in matrix y, transforming all names to classes indexes\n",
        "  def transform(self, y):\n",
        "    return self._map_reshape(lambda name: self.name_to_class[name], y)\n",
        "\n",
        "  def fit_transform(self, y):\n",
        "    self.fit(y)\n",
        "    return self.transform(y)\n",
        "\n",
        "  # convert y_hat matrix to all tag names instead of indexes\n",
        "  def detransform(self, y_hat):\n",
        "    return self._map_reshape(lambda idx: self.names[idx], y_hat)"
      ],
      "metadata": {
        "id": "sDBLvbTtlwzs"
      },
      "execution_count": null,
      "outputs": []
    },
    {
      "cell_type": "code",
      "execution_count": null,
      "metadata": {
        "id": "m0KYC8_uSOu4"
      },
      "outputs": [],
      "source": [
        "class BaseBayesianClassifier:\n",
        "  def __init__(self):\n",
        "    self.encoder = ClassEncoder()\n",
        "\n",
        "  def _estimate_a_priori(self, y):\n",
        "    a_priori = np.bincount(y.flatten().astype(int)) / y.size # array where each idx is the probability of that class in the given array\n",
        "    # Q3: para que sirve bincount?\n",
        "    return np.log(a_priori)\n",
        "\n",
        "  def _fit_params(self, X, y):\n",
        "    # estimate all needed parameters for given model\n",
        "    raise NotImplementedError()\n",
        "\n",
        "  def _predict_log_conditional(self, x, class_idx):\n",
        "    # predict the log(P(x|G=class_idx)), the log of the conditional probability of x given the class\n",
        "    # this should depend on the model used\n",
        "    raise NotImplementedError()\n",
        "\n",
        "  def fit(self, X, y, a_priori=None):\n",
        "    # first encode the classes\n",
        "    y = self.encoder.fit_transform(y)\n",
        "\n",
        "    # if it's needed, estimate a priori probabilities (probability per index)\n",
        "    self.log_a_priori = self._estimate_a_priori(y) if a_priori is None else np.log(a_priori)\n",
        "\n",
        "    # check that a_priori has the correct number of classes\n",
        "    assert len(self.log_a_priori) == len(self.encoder.names), \"A priori probabilities do not match number of classes\"\n",
        "\n",
        "    # now that everything else is in place, estimate all needed parameters for given model (covariance matrix, means, etc)\n",
        "    self._fit_params(X, y)\n",
        "    # Q4: por que el _fit_params va al final? no se puede mover a, por ejemplo, antes de la priori? (cov matrix needs a_priori calculations and encoded classes)\n",
        "\n",
        "  def predict(self, X):\n",
        "    # this is actually an individual prediction encased in a for-loop\n",
        "    m_obs = X.shape[1]\n",
        "    y_hat = np.empty(m_obs, dtype=self.encoder.fmt)\n",
        "\n",
        "    for i in range(m_obs):\n",
        "      encoded_y_hat_i = self._predict_one(X[:,i].reshape(-1,1))\n",
        "      y_hat[i] = self.encoder.names[encoded_y_hat_i]\n",
        "\n",
        "    # return prediction as a row vector (matching y)\n",
        "    return y_hat.reshape(1,-1)\n",
        "\n",
        "  def _predict_one(self, x):\n",
        "    # calculate all log posteriori probabilities (actually, +C)\n",
        "    log_posteriori = [ log_a_priori_i + self._predict_log_conditional(x, idx) for idx, log_a_priori_i\n",
        "                  in enumerate(self.log_a_priori) ]\n",
        "\n",
        "    # return the class that has maximum a posteriori probability\n",
        "    return np.argmax(log_posteriori)"
      ]
    },
    {
      "cell_type": "code",
      "source": [
        "class QDA(BaseBayesianClassifier):\n",
        "\n",
        "  def _fit_params(self, X, y):\n",
        "    # estimate each covariance matrix\n",
        "    # Calculate inverted cov matrix for each class (idx)\n",
        "    self.inv_covs = [inv(np.cov(X[:,y.flatten()==idx], bias=True))\n",
        "                      for idx in range(len(self.log_a_priori))]\n",
        "    # Q5: por que hace falta el flatten y no se puede directamente X[:,y==idx]?\n",
        "    # Q6: por que se usa bias=True en vez del default bias=False?\n",
        "    # y.flatten() = idx[]\n",
        "    # len a_priori = amount of classes\n",
        "    # X[:,y.flatten()==idx] => all rows (features) which belongs to the current idx class\n",
        "    self.means = [X[:,y.flatten()==idx].mean(axis=1, keepdims=True)\n",
        "                  for idx in range(len(self.log_a_priori))]\n",
        "    # Q7: que hace axis=1? por que no axis=0?\n",
        "\n",
        "  def _predict_log_conditional(self, x, class_idx):\n",
        "    # predict the log(P(x|G=class_idx)), the log of the conditional probability of x given the class\n",
        "    # this should depend on the model used\n",
        "    inv_cov = self.inv_covs[class_idx]\n",
        "    unbiased_x =  x - self.means[class_idx]\n",
        "    return 0.5*np.log(det(inv_cov)) -0.5 * unbiased_x.T @ inv_cov @ unbiased_x"
      ],
      "metadata": {
        "id": "IRamFdiGDuSR"
      },
      "execution_count": null,
      "outputs": []
    },
    {
      "cell_type": "code",
      "source": [
        "class TensorizedQDA(QDA):\n",
        "\n",
        "    def _fit_params(self, X, y):\n",
        "        # ask plain QDA to fit params\n",
        "        super()._fit_params(X,y)\n",
        "\n",
        "        # stack onto new dimension\n",
        "        self.tensor_inv_cov = np.stack(self.inv_covs)\n",
        "        self.tensor_means = np.stack(self.means)\n",
        "\n",
        "    def _predict_log_conditionals(self,x):\n",
        "        unbiased_x = x - self.tensor_means\n",
        "        inner_prod = unbiased_x.transpose(0,2,1) @ self.tensor_inv_cov @ unbiased_x\n",
        "\n",
        "        return 0.5*np.log(det(self.tensor_inv_cov)) - 0.5 * inner_prod.flatten()\n",
        "\n",
        "    def _predict_one(self, x):\n",
        "        # return the class that has maximum a posteriori probability\n",
        "        return np.argmax(self.log_a_priori + self._predict_log_conditionals(x))"
      ],
      "metadata": {
        "id": "fRtC9HEkO5Hu"
      },
      "execution_count": null,
      "outputs": []
    },
    {
      "cell_type": "markdown",
      "source": [
        "## Código para pruebas"
      ],
      "metadata": {
        "id": "KS_zoK-gWkRf"
      }
    },
    {
      "cell_type": "markdown",
      "source": [
        "Seteamos los datos"
      ],
      "metadata": {
        "id": "nz19b6NJed2A"
      }
    },
    {
      "cell_type": "code",
      "source": [
        "# hiperparámetros\n",
        "rng_seed = 6543"
      ],
      "metadata": {
        "id": "m05KrhUDINVs"
      },
      "execution_count": null,
      "outputs": []
    },
    {
      "cell_type": "code",
      "source": [
        "from sklearn.datasets import load_iris, fetch_openml\n",
        "\n",
        "def get_iris_dataset():\n",
        "  data = load_iris()\n",
        "  X_full = data.data\n",
        "  y_full = np.array([data.target_names[y] for y in data.target.reshape(-1,1)])\n",
        "  return X_full, y_full\n",
        "\n",
        "def get_penguins():\n",
        "    # get data\n",
        "    df, tgt = fetch_openml(name=\"penguins\", return_X_y=True, as_frame=True, parser='auto')\n",
        "\n",
        "    # drop non-numeric columns\n",
        "    df.drop(columns=[\"island\",\"sex\"], inplace=True)\n",
        "\n",
        "    # drop rows with missing values\n",
        "    mask = df.isna().sum(axis=1) == 0\n",
        "    df = df[mask]\n",
        "    tgt = tgt[mask]\n",
        "\n",
        "    return df.values, tgt.to_numpy().reshape(-1,1)\n",
        "\n",
        "# showing for iris\n",
        "X_full, y_full = get_iris_dataset()\n",
        "\n",
        "print(f\"X: {X_full.shape}, Y:{y_full.shape}\")"
      ],
      "metadata": {
        "id": "2hkXcoldXOqs",
        "colab": {
          "base_uri": "https://localhost:8080/"
        },
        "outputId": "9c98c70c-232d-49f3-c3bd-b1f21789559f"
      },
      "execution_count": null,
      "outputs": [
        {
          "output_type": "stream",
          "name": "stdout",
          "text": [
            "X: (150, 4), Y:(150, 1)\n"
          ]
        }
      ]
    },
    {
      "cell_type": "code",
      "source": [
        "# peek data matrix\n",
        "X_full[:5]"
      ],
      "metadata": {
        "colab": {
          "base_uri": "https://localhost:8080/"
        },
        "id": "jAk-UQCjKecT",
        "outputId": "0cf7c399-b659-4a96-d9c0-fbb57c8f63d8"
      },
      "execution_count": null,
      "outputs": [
        {
          "output_type": "execute_result",
          "data": {
            "text/plain": [
              "array([[5.1, 3.5, 1.4, 0.2],\n",
              "       [4.9, 3. , 1.4, 0.2],\n",
              "       [4.7, 3.2, 1.3, 0.2],\n",
              "       [4.6, 3.1, 1.5, 0.2],\n",
              "       [5. , 3.6, 1.4, 0.2]])"
            ]
          },
          "metadata": {},
          "execution_count": 9
        }
      ]
    },
    {
      "cell_type": "code",
      "source": [
        "# peek target vector\n",
        "y_full[:5]"
      ],
      "metadata": {
        "colab": {
          "base_uri": "https://localhost:8080/"
        },
        "id": "YdzMURX2KVdO",
        "outputId": "f9fe4a2f-f029-48a6-885b-cdf38baad540"
      },
      "execution_count": null,
      "outputs": [
        {
          "output_type": "execute_result",
          "data": {
            "text/plain": [
              "array([['setosa'],\n",
              "       ['setosa'],\n",
              "       ['setosa'],\n",
              "       ['setosa'],\n",
              "       ['setosa']], dtype='<U10')"
            ]
          },
          "metadata": {},
          "execution_count": 10
        }
      ]
    },
    {
      "cell_type": "markdown",
      "source": [
        "Separamos el dataset en train y test para medir performance"
      ],
      "metadata": {
        "id": "Kl8UFh1OegbJ"
      }
    },
    {
      "cell_type": "code",
      "source": [
        "# preparing data, train - test validation\n",
        "# 70-30 split\n",
        "from sklearn.model_selection import train_test_split\n",
        "\n",
        "def split_transpose(X, y, test_sz, random_state):\n",
        "    # split\n",
        "    X_train, X_test, y_train, y_test = train_test_split(X, y, test_size=0.4, random_state=random_state)\n",
        "\n",
        "    # transpose so observations are column vectors\n",
        "    return X_train.T, y_train.T, X_test.T, y_test.T\n",
        "\n",
        "def accuracy(y_true, y_pred):\n",
        "  return (y_true == y_pred).mean()\n",
        "\n",
        "train_x, train_y, test_x, test_y = split_transpose(X_full, y_full, 0.4, rng_seed)\n",
        "\n",
        "print(train_x.shape, train_y.shape, test_x.shape, test_y.shape)"
      ],
      "metadata": {
        "colab": {
          "base_uri": "https://localhost:8080/"
        },
        "id": "LKP_QmWCIECs",
        "outputId": "4017820c-e8e4-4f6f-b16a-1b588e0c74ab"
      },
      "execution_count": null,
      "outputs": [
        {
          "output_type": "stream",
          "name": "stdout",
          "text": [
            "(4, 90) (1, 90) (4, 60) (1, 60)\n"
          ]
        }
      ]
    },
    {
      "cell_type": "markdown",
      "source": [
        "Entrenamos un QDA y medimos su accuracy"
      ],
      "metadata": {
        "id": "LwgXFPbJemb_"
      }
    },
    {
      "cell_type": "code",
      "source": [
        "qda = QDA()\n",
        "\n",
        "qda.fit(train_x, train_y)"
      ],
      "metadata": {
        "id": "dGIf2TA5SpoT"
      },
      "execution_count": null,
      "outputs": []
    },
    {
      "cell_type": "code",
      "source": [
        "train_acc = accuracy(train_y, qda.predict(train_x))\n",
        "test_acc = accuracy(test_y, qda.predict(test_x))\n",
        "print(f\"Train (apparent) error is {1-train_acc:.4f} while test error is {1-test_acc:.4f}\")"
      ],
      "metadata": {
        "colab": {
          "base_uri": "https://localhost:8080/"
        },
        "id": "c0Q30DyLWpTL",
        "outputId": "218fab66-2e8f-477c-bb82-9e35c8f96dd3"
      },
      "execution_count": null,
      "outputs": [
        {
          "output_type": "stream",
          "name": "stdout",
          "text": [
            "Train (apparent) error is 0.0111 while test error is 0.0167\n"
          ]
        }
      ]
    },
    {
      "cell_type": "markdown",
      "source": [
        "Con el magic %%timeit podemos estimar el tiempo que tarda en correr una celda en base a varias ejecuciones. Por poner un ejemplo, acá vamos a estimar lo que tarda un ciclo completo de QDA y también su inferencia (predicción).\n",
        "\n",
        "Ojo! a veces [puede ser necesario ejecutarlo varias veces](https://stackoverflow.com/questions/10994405/python-timeit-results-cached-instead-of-calculated) para obtener resultados consistentes.\n",
        "\n",
        "Si quieren explorar otros métodos de medición también es válido!"
      ],
      "metadata": {
        "id": "-QcLtNNIevC_"
      }
    },
    {
      "cell_type": "code",
      "source": [
        "%%timeit\n",
        "\n",
        "qda.predict(test_x)"
      ],
      "metadata": {
        "colab": {
          "base_uri": "https://localhost:8080/"
        },
        "id": "vnZT-HN2fUuW",
        "outputId": "51c12294-0eb8-4bb4-d102-8396be0a57b1"
      },
      "execution_count": null,
      "outputs": [
        {
          "output_type": "stream",
          "name": "stdout",
          "text": [
            "6.27 ms ± 1.17 ms per loop (mean ± std. dev. of 7 runs, 100 loops each)\n"
          ]
        }
      ]
    },
    {
      "cell_type": "code",
      "source": [
        "%%timeit\n",
        "\n",
        "model = QDA()\n",
        "model.fit(train_x, train_y)\n",
        "model.predict(test_x)"
      ],
      "metadata": {
        "colab": {
          "base_uri": "https://localhost:8080/"
        },
        "id": "kjFbVSqfeHUX",
        "outputId": "1b0e4cf1-3066-4497-da4f-f3bcef4723cc"
      },
      "execution_count": null,
      "outputs": [
        {
          "output_type": "stream",
          "name": "stdout",
          "text": [
            "10.7 ms ± 3.25 ms per loop (mean ± std. dev. of 7 runs, 100 loops each)\n"
          ]
        }
      ]
    },
    {
      "cell_type": "markdown",
      "source": [
        "# Consigna\n"
      ],
      "metadata": {
        "id": "BsDYvwFEEKV5"
      }
    },
    {
      "cell_type": "markdown",
      "source": [
        "## Implementación base\n",
        "1. Entrenar un modelo QDA sobre el dataset *iris* utilizando las distribuciones *a priori* a continuación ¿Se observan diferencias?¿Por qué cree? _Pista: comparar con las distribuciones del dataset completo, **sin splitear**_.\n",
        "    1. Uniforme (cada clase tiene probabilidad 1/3)\n",
        "    2. Una clase con probabilidad 0.9, las demás 0.05 (probar las 3 combinaciones)\n",
        "2. Repetir el punto anterior para el dataset *penguin*.\n",
        "3. Implementar el modelo LDA, entrenarlo y testearlo contra los mismos sets que QDA (no múltiples prioris) ¿Se observan diferencias? ¿Podría decirse que alguno de los dos es notoriamente mejor que el otro?\n",
        "4. Utilizar otros 2 (dos) valores de *random seed* para obtener distintos splits de train y test, y repetir la comparación del punto anterior ¿Las conclusiones previas se mantienen?\n",
        "5. Estimar y comparar los tiempos de predicción de las clases `QDA` y `TensorizedQDA`. De haber diferencias ¿Cuáles pueden ser las causas?\n",
        "\n",
        "\n",
        "**Sugerencia:** puede resultar de utilidad para cada inciso de comparación utilizar tablas del siguiente estilo:\n",
        "\n",
        "<center>\n",
        "\n",
        "Modelo | Dataset | Seed | Error (train) | Error (test)\n",
        ":---: | :---: | :---: | :---: | :---:\n",
        "QDA | Iris | 125 | 0.55 | 0.85\n",
        "LDA | Iris | 125 | 0.22 | 0.8\n",
        "\n",
        "</center>\n"
      ],
      "metadata": {
        "id": "1Yb1V7_yXRfO"
      }
    },
    {
      "cell_type": "markdown",
      "source": [
        "### 1. Entrenamiento QDA con diferentes *a_priori*"
      ],
      "metadata": {
        "id": "WuW7616vKWgO"
      }
    },
    {
      "cell_type": "code",
      "source": [
        "import matplotlib.pyplot as plt\n",
        "\n",
        "plt.hist(y_full.flatten())\n",
        "plt.show()"
      ],
      "metadata": {
        "colab": {
          "base_uri": "https://localhost:8080/",
          "height": 430
        },
        "id": "2vMDiO4-PLuR",
        "outputId": "8e14455d-9fbf-477c-8be1-e1e0bde04e25"
      },
      "execution_count": null,
      "outputs": [
        {
          "output_type": "display_data",
          "data": {
            "text/plain": [
              "<Figure size 640x480 with 1 Axes>"
            ],
            "image/png": "[encoded data removed]"
          },
          "metadata": {}
        }
      ]
    },
    {
      "cell_type": "code",
      "source": [
        "rng_seed = 123\n",
        "train_x, train_y, test_x, test_y = split_transpose(X_full, y_full, 0.7, rng_seed)\n",
        "\n",
        "a_prioris = [[1/3, 1/3, 1/3], [0.9, 0.05, 0.05], [0.05, 0.9, 0.05], [0.05, 0.05, 0.9]]\n",
        "for i, a_priori in enumerate(a_prioris):\n",
        "  qda = QDA()\n",
        "  qda.fit(train_x, train_y, a_priori=a_priori)\n",
        "  train_acc = accuracy(train_y, qda.predict(train_x))\n",
        "  test_acc = accuracy(test_y, qda.predict(test_x))\n",
        "  print(f\"Using a_priori= {a_priori}\")\n",
        "  print(f\"Train (apparent) error is {1-train_acc:.4f} while test error is {1-test_acc:.4f}\")"
      ],
      "metadata": {
        "colab": {
          "base_uri": "https://localhost:8080/"
        },
        "id": "AWHzYtEZenLJ",
        "outputId": "d78170a5-c48a-4a3e-e66d-390c27f3c170"
      },
      "execution_count": null,
      "outputs": [
        {
          "output_type": "stream",
          "name": "stdout",
          "text": [
            "Using a_priori= [0.3333333333333333, 0.3333333333333333, 0.3333333333333333]\n",
            "Train (apparent) error is 0.0222 while test error is 0.0167\n",
            "Using a_priori= [0.9, 0.05, 0.05]\n",
            "Train (apparent) error is 0.0222 while test error is 0.0167\n",
            "Using a_priori= [0.05, 0.9, 0.05]\n",
            "Train (apparent) error is 0.0333 while test error is 0.0667\n",
            "Using a_priori= [0.05, 0.05, 0.9]\n",
            "Train (apparent) error is 0.0556 while test error is 0.0167\n"
          ]
        }
      ]
    },
    {
      "cell_type": "markdown",
      "source": [
        "<center>\n",
        "\n",
        "Modelo | Dataset | Seed | a_priori | Error (train) | Error (test)\n",
        ":---: | :---: | :---: | :---: | :---: | :---:\n",
        "QDA | Iris | 123 | [1/3, 1/3, 1/3] | **0.0222** | **0.0167**\n",
        "QDA | Iris | 123 | [**0.9**, 0.05, 0.05] | **0.0222** | **0.0167**\n",
        "QDA | Iris | 123 | [0.05, **0.9**, 0.05] | 0.0333 | 0.0667\n",
        "QDA | Iris | 123 | [0.05, 0.05, **0.9**] | 0.0556 | 0.0167\n",
        "\n",
        "</center>"
      ],
      "metadata": {
        "id": "mxdmyva4OO9T"
      }
    },
    {
      "cell_type": "markdown",
      "source": [
        "\n",
        "Código para predict_one\n",
        "log_posteriori = **log_a_priori_i** + **self._predict_log_conditional(x, class_idx)**\n",
        "\n",
        "Corriendo con a_priori = [0.9, 0.05, 0.05]\n",
        "\n",
        "class_0\n",
        "log_a_priori_i = -0.11\n",
        "_predict_log_conditional = **5.37**\n",
        "\n",
        "class_1\n",
        "log_a_priori_i = -2.996\n",
        "_predict_log_conditional = -47.31\n",
        "\n",
        "class_2\n",
        "log_a_priori_i = -2.996\n",
        "_predict_log_conditional = -74.88\n",
        "\n",
        "\n",
        "_predict_log_conditional >> log_a_priori_n\n"
      ],
      "metadata": {
        "id": "3zm57Yqwlrmh"
      }
    },
    {
      "cell_type": "markdown",
      "source": [
        "Distribución que mejor debería performar es la 1/3 uniforme, acorde a la distribución del ds original. ...por qué segunda distribución no cambia el resultado?\n",
        "\n",
        "La probabilidad a_priori de la primera clase no está afectando al resultado.\n",
        "\n",
        "El valor de predict_log_conditional es tan grande que, independientemente del valor que tome a_priori, siempre se predecirá por la clase setosa.\n",
        "\n",
        "Observando la distribución de las features, el petal length y petal width es muy característico para la clase setosa. Esto afectaría directamente a la matriz de covarianza de la clase."
      ],
      "metadata": {
        "id": "X_TUZiGuxkoR"
      }
    },
    {
      "cell_type": "code",
      "source": [
        "import pandas as pd\n",
        "import seaborn as sns\n",
        "import matplotlib.pyplot as plt\n",
        "\n",
        "df_iris = pd.DataFrame(X_full, columns=load_iris().feature_names)\n",
        "df_iris['species'] = y_full.flatten()\n",
        "features = load_iris().feature_names\n",
        "classes = df_iris['species'].unique()\n",
        "\n",
        "plt.figure(figsize=(8, 5))\n",
        "\n",
        "for i, feature in enumerate(features):\n",
        "    plt.subplot(2, 2, i + 1)\n",
        "    for cls in classes:\n",
        "        subset = df_iris[df_iris['species'] == cls]\n",
        "        sns.kdeplot(subset[feature], label=cls, fill=True, alpha=0.6)\n",
        "    plt.title(f'Densidad de {feature}')\n",
        "    plt.xlabel(feature)\n",
        "    plt.ylabel('Densidad')\n",
        "    plt.legend()\n",
        "\n",
        "plt.tight_layout()\n",
        "plt.show()"
      ],
      "metadata": {
        "colab": {
          "base_uri": "https://localhost:8080/",
          "height": 507
        },
        "id": "juS6BtzYYsn0",
        "outputId": "80e11ad2-00de-46f6-fc8a-4f04a86a9636"
      },
      "execution_count": null,
      "outputs": [
        {
          "output_type": "display_data",
          "data": {
            "text/plain": [
              "<Figure size 800x500 with 4 Axes>"
            ],
            "image/png": "[encoded data removed]"
          },
          "metadata": {}
        }
      ]
    },
    {
      "cell_type": "markdown",
      "source": [
        "### 2. Entrenamiento dataset Penguin QDA con diferentes *a_priori*"
      ],
      "metadata": {
        "id": "j3rdSmuEx0Ig"
      }
    },
    {
      "cell_type": "code",
      "source": [
        "# culmen_length_mm, culmen_depth_mm, flipper_length_mm, body_mass_g\n",
        "X_full_penguins, y_full_penguins = get_penguins()"
      ],
      "metadata": {
        "id": "_YVcDz7QNHpB"
      },
      "execution_count": null,
      "outputs": []
    },
    {
      "cell_type": "code",
      "source": [
        "import matplotlib.pyplot as plt\n",
        "\n",
        "plt.hist(y_full_penguins)\n",
        "plt.show()"
      ],
      "metadata": {
        "colab": {
          "base_uri": "https://localhost:8080/"
        },
        "id": "SW5A8z74wDJY",
        "outputId": "ae581add-2383-498b-d26a-5fcf8e641aab"
      },
      "execution_count": null,
      "outputs": [
        {
          "output_type": "display_data",
          "data": {
            "text/plain": [
              "<Figure size 640x480 with 1 Axes>"
            ],
            "image/png": "[encoded data removed]"
          },
          "metadata": {}
        }
      ]
    },
    {
      "cell_type": "code",
      "source": [
        "rng_seed = 123\n",
        "train_x_penguins, train_y_penguins, test_x_penguins, test_y_penguins = split_transpose(X_full_penguins, y_full_penguins, 0.3, rng_seed)\n",
        "a_prioris = [[1/3, 1/3, 1/3], [0.9, 0.05, 0.05], [0.05, 0.9, 0.05], [0.05, 0.05, 0.9]]\n",
        "for i, a_priori in enumerate(a_prioris):\n",
        "    qda = QDA()\n",
        "    qda.fit(train_x_penguins, train_y_penguins, a_priori=a_priori)\n",
        "\n",
        "    train_acc = accuracy(train_y_penguins, qda.predict(train_x_penguins))\n",
        "    test_acc = accuracy(test_y_penguins, qda.predict(test_x_penguins))\n",
        "    print(f\"Using a_priori= {a_priori}\")\n",
        "    print(f\"Train (apparent) error is {1-train_acc:.4f} while test error is {1-test_acc:.4f}\")"
      ],
      "metadata": {
        "colab": {
          "base_uri": "https://localhost:8080/"
        },
        "id": "IuRELwIEwCYu",
        "outputId": "91ed4614-2e0e-4a95-f939-25b25ea7e7cb"
      },
      "execution_count": null,
      "outputs": [
        {
          "output_type": "stream",
          "name": "stdout",
          "text": [
            "Using a_priori= [0.3333333333333333, 0.3333333333333333, 0.3333333333333333]\n",
            "Train (apparent) error is 0.0000 while test error is 0.0146\n",
            "Using a_priori= [0.9, 0.05, 0.05]\n",
            "Train (apparent) error is 0.0146 while test error is 0.0219\n",
            "Using a_priori= [0.05, 0.9, 0.05]\n",
            "Train (apparent) error is 0.0341 while test error is 0.0657\n",
            "Using a_priori= [0.05, 0.05, 0.9]\n",
            "Train (apparent) error is 0.0000 while test error is 0.0146\n"
          ]
        }
      ]
    },
    {
      "cell_type": "markdown",
      "source": [
        "<center>\n",
        "\n",
        "Modelo | Dataset | Seed | a_priori | Error (train) | Error (test)\n",
        ":---: | :---: | :---: | :---: | :---: | :---:\n",
        "QDA | Penguins | 123 | [1/3, 1/3, 1/3] | **0.0000** | **0.0146**\n",
        "QDA | Penguins | 123 | [**0.9**, 0.05, 0.05] | 0.0146 | 0.0219\n",
        "QDA | Penguins | 123 | [0.05, **0.9**, 0.05] | **0.0341** | **0.0657**\n",
        "QDA | Penguins | 123 | [0.05, 0.05, **0.9**] | **0.0000** | **0.0146**\n",
        "\n",
        "</center>"
      ],
      "metadata": {
        "id": "hdW0Z4dQSLCV"
      }
    },
    {
      "cell_type": "markdown",
      "source": [
        "Se observa que la distribución que peor performa es la que asigna mayor probabilidad a la especie de pingüino *chinstrap* (\\[0.05, **0.9**, 0.05\\]). En el dataset original, es la especie con menor frecuencia.\n",
        "\n",
        "La distribucion uniforme y la que asigna mayor probabilidad a la ultima clase son las que mejor performan."
      ],
      "metadata": {
        "id": "1PZcMNjqw2N7"
      }
    },
    {
      "cell_type": "markdown",
      "source": [
        "### 3. Modelo LDA"
      ],
      "metadata": {
        "id": "Ou9GUuSRyTPL"
      }
    },
    {
      "cell_type": "markdown",
      "source": [
        "* $\\hat{\\Sigma} = \\frac{1}{n} \\sum_{j=1}^k n_j \\cdot s^2_j$ el promedio ponderado (por frecs. relativas) de las matrices de covarianzas de todas las clases. *Observar que se utiliza el estimador de MV y no el insesgado*"
      ],
      "metadata": {
        "id": "EZ-Rpi-zz5lG"
      }
    },
    {
      "cell_type": "code",
      "source": [
        "class LDA(BaseBayesianClassifier):\n",
        "\n",
        "  def _fit_params(self, X, y):\n",
        "    # Each class covariance matrix (=QDA non inverted)\n",
        "    covs = [np.cov(X[:,y.flatten()==idx], bias=True) for idx in range(len(self.log_a_priori))]\n",
        "    # Inverted Weighted average (by frequency) of the covariance matrices of each class (covs).\n",
        "    # Axis=0 to average across cov matrices not columns of same cov matrix.\n",
        "    self.inv_cov = inv(np.average(covs, axis=0, weights=np.bincount(y.flatten().astype(int))))\n",
        "    # Mean over axis=1, for each class go over the observations and get the mean for each feature\n",
        "    # X shape = (features, observations). Axis = 0 iria por observacion y devolveria el promedio de las features\n",
        "    self.means = [X[:,y.flatten()==idx].mean(axis=1, keepdims=True) for idx in range(len(self.log_a_priori))]\n",
        "\n",
        "  def _predict_log_conditional(self, x, class_idx):\n",
        "    unbiased_x =  x - self.means[class_idx]\n",
        "    return 0.5*np.log(det(self.inv_cov)) -0.5 * unbiased_x.T @ self.inv_cov @ unbiased_x"
      ],
      "metadata": {
        "id": "EZ1Qp8BTyVQU"
      },
      "execution_count": null,
      "outputs": []
    },
    {
      "cell_type": "markdown",
      "source": [
        "Iris DS"
      ],
      "metadata": {
        "id": "qg9eJ02r4oAq"
      }
    },
    {
      "cell_type": "code",
      "source": [
        "rng_seed = 333\n",
        "train_x, train_y, test_x, test_y = split_transpose(X_full, y_full, 0.3, rng_seed)\n",
        "\n",
        "qda = QDA()\n",
        "qda.fit(train_x, train_y)\n",
        "\n",
        "train_acc = accuracy(train_y, qda.predict(train_x))\n",
        "test_acc = accuracy(test_y, qda.predict(test_x))\n",
        "print(f\"QDA -- Train (apparent) error is {1-train_acc:.4f} while test error is {1-test_acc:.4f}\")\n",
        "\n",
        "lda = LDA()\n",
        "lda.fit(train_x, train_y)\n",
        "\n",
        "train_acc = accuracy(train_y, lda.predict(train_x))\n",
        "test_acc = accuracy(test_y, lda.predict(test_x))\n",
        "print(f\"LDA -- Train (apparent) error is {1-train_acc:.4f} while test error is {1-test_acc:.4f}\")"
      ],
      "metadata": {
        "colab": {
          "base_uri": "https://localhost:8080/"
        },
        "id": "RZUj7ytD4vE5",
        "outputId": "b41a683f-0346-4583-deea-5b7495d627ad"
      },
      "execution_count": null,
      "outputs": [
        {
          "output_type": "stream",
          "name": "stdout",
          "text": [
            "QDA -- Train (apparent) error is 0.0111 while test error is 0.0333\n",
            "LDA -- Train (apparent) error is 0.0111 while test error is 0.0500\n"
          ]
        }
      ]
    },
    {
      "cell_type": "markdown",
      "source": [
        "<center>\n",
        "\n",
        "Modelo | Dataset | Seed | Error (train) | Error (test)\n",
        ":---: | :---: | :---: | :---: | :---:\n",
        "QDA | Iris | 333 | **0.0111** | **0.0333**\n",
        "LDA | Iris | 333 | 0.0111 | 0.0500\n",
        "\n",
        "</center>"
      ],
      "metadata": {
        "id": "QGxWdk3OVj0m"
      }
    },
    {
      "cell_type": "markdown",
      "source": [
        "Penguin DS"
      ],
      "metadata": {
        "id": "YKUFCn3B4skJ"
      }
    },
    {
      "cell_type": "code",
      "source": [
        "rng_seed = 333\n",
        "X_full_penguins, y_full_penguins = get_penguins()\n",
        "train_x_penguins, train_y_penguins, test_x_penguins, test_y_penguins = split_transpose(X_full_penguins, y_full_penguins, 0.3, rng_seed)\n",
        "\n",
        "qda = QDA()\n",
        "qda.fit(train_x_penguins, train_y_penguins)\n",
        "\n",
        "train_acc = accuracy(train_y_penguins, qda.predict(train_x_penguins))\n",
        "test_acc = accuracy(test_y_penguins, qda.predict(test_x_penguins))\n",
        "print(f\"QDA -- Train (apparent) error is {1-train_acc:.4f} while test error is {1-test_acc:.4f}\")\n",
        "\n",
        "lda = LDA()\n",
        "lda.fit(train_x_penguins, train_y_penguins)\n",
        "\n",
        "train_acc = accuracy(train_y_penguins, lda.predict(train_x_penguins))\n",
        "test_acc = accuracy(test_y_penguins, lda.predict(test_x_penguins))\n",
        "print(f\"LDA -- Train (apparent) error is {1-train_acc:.4f} while test error is {1-test_acc:.4f}\")"
      ],
      "metadata": {
        "colab": {
          "base_uri": "https://localhost:8080/"
        },
        "id": "10rbgJPb8DV1",
        "outputId": "c35bfafa-6042-44ff-db40-4f4ded45f574"
      },
      "execution_count": null,
      "outputs": [
        {
          "output_type": "stream",
          "name": "stdout",
          "text": [
            "QDA -- Train (apparent) error is 0.0146 while test error is 0.0073\n",
            "LDA -- Train (apparent) error is 0.0195 while test error is 0.0073\n"
          ]
        }
      ]
    },
    {
      "cell_type": "markdown",
      "source": [
        "<center>\n",
        "\n",
        "Modelo | Dataset | Seed | Error (train) | Error (test)\n",
        ":---: | :---: | :---: | :---: | :---:\n",
        "QDA | Penguins | 333 | **0.0146** | **0.0073**\n",
        "LDA | Penguins | 333 | 0.0195 | 0.0073\n",
        "\n",
        "</center>"
      ],
      "metadata": {
        "id": "Z2HeWimKVw2N"
      }
    },
    {
      "cell_type": "markdown",
      "source": [
        "Se observa un menor error con el modelo QDA para los dos datasets.\n",
        "\n",
        "Generalizar con la media de las matrices de covarianza parece no ayudar en estos casos.\n",
        "\n",
        "Tener la matriz de covarianza para cada clase da mejores resultados en ambos datasets.  "
      ],
      "metadata": {
        "id": "Bj-rt2Bz6dY2"
      }
    },
    {
      "cell_type": "markdown",
      "source": [
        "### 4. Random Seeds"
      ],
      "metadata": {
        "id": "P-HqBtekyY-7"
      }
    },
    {
      "cell_type": "code",
      "source": [
        "rng_seeds = [512, 831]\n",
        "\n",
        "print(\"--- Iris DS ---\")\n",
        "for rng_seed in rng_seeds:\n",
        "  train_x, train_y, test_x, test_y = split_transpose(X_full, y_full, 0.3, rng_seed)\n",
        "\n",
        "  qda = QDA()\n",
        "  qda.fit(train_x, train_y)\n",
        "\n",
        "  train_acc = accuracy(train_y, qda.predict(train_x))\n",
        "  test_acc = accuracy(test_y, qda.predict(test_x))\n",
        "  print(f\"QDA_{rng_seed} -- Train (apparent) error is {1-train_acc:.4f} while test error is {1-test_acc:.4f}\")\n",
        "\n",
        "  lda = LDA()\n",
        "  lda.fit(train_x, train_y)\n",
        "\n",
        "  train_acc = accuracy(train_y, lda.predict(train_x))\n",
        "  test_acc = accuracy(test_y, lda.predict(test_x))\n",
        "  print(f\"LDA_{rng_seed} -- Train (apparent) error is {1-train_acc:.4f} while test error is {1-test_acc:.4f}\")\n",
        "\n",
        "print(\"--- Penguin DS ---\")\n",
        "for rng_seed in rng_seeds:\n",
        "  X_full_penguins, y_full_penguins = get_penguins()\n",
        "  train_x_penguins, train_y_penguins, test_x_penguins, test_y_penguins = split_transpose(X_full_penguins, y_full_penguins, 0.3, rng_seed)\n",
        "\n",
        "  qda = QDA()\n",
        "  qda.fit(train_x_penguins, train_y_penguins)\n",
        "\n",
        "  train_acc = accuracy(train_y_penguins, qda.predict(train_x_penguins))\n",
        "  test_acc = accuracy(test_y_penguins, qda.predict(test_x_penguins))\n",
        "  print(f\"QDA_PENGUIN_{rng_seed} -- Train (apparent) error is {1-train_acc:.4f} while test error is {1-test_acc:.4f}\")\n",
        "\n",
        "  lda = LDA()\n",
        "  lda.fit(train_x_penguins, train_y_penguins)\n",
        "\n",
        "  train_acc = accuracy(train_y_penguins, lda.predict(train_x_penguins))\n",
        "  test_acc = accuracy(test_y_penguins, lda.predict(test_x_penguins))\n",
        "  print(f\"LDA_PENGUIN_{rng_seed} -- Train (apparent) error is {1-train_acc:.4f} while test error is {1-test_acc:.4f}\")"
      ],
      "metadata": {
        "id": "I4wMrzvFydWc",
        "colab": {
          "base_uri": "https://localhost:8080/"
        },
        "outputId": "7e7e1e00-9426-4bff-b34c-c3bced0879a5"
      },
      "execution_count": null,
      "outputs": [
        {
          "output_type": "stream",
          "name": "stdout",
          "text": [
            "--- Iris DS ---\n",
            "QDA_512 -- Train (apparent) error is 0.0000 while test error is 0.0167\n",
            "LDA_512 -- Train (apparent) error is 0.0222 while test error is 0.0167\n",
            "QDA_831 -- Train (apparent) error is 0.0111 while test error is 0.0333\n",
            "LDA_831 -- Train (apparent) error is 0.0222 while test error is 0.0667\n",
            "--- Penguin DS ---\n",
            "QDA_PENGUIN_512 -- Train (apparent) error is 0.0098 while test error is 0.0000\n",
            "LDA_PENGUIN_512 -- Train (apparent) error is 0.0146 while test error is 0.0073\n",
            "QDA_PENGUIN_831 -- Train (apparent) error is 0.0049 while test error is 0.0219\n",
            "LDA_PENGUIN_831 -- Train (apparent) error is 0.0049 while test error is 0.0292\n"
          ]
        }
      ]
    },
    {
      "cell_type": "markdown",
      "source": [
        "<center>\n",
        "\n",
        "Modelo | Dataset | Seed | Error (train) | Error (test)\n",
        ":---: | :---: | :---: | :---: | :---:\n",
        "QDA | Iris | 512 | **0.0000** | **0.0167**\n",
        "LDA | Iris | 512 | 0.0222 | 0.0167\n",
        "QDA | Iris | 831 | **0.0111** | **0.0333**\n",
        "LDA | Iris | 831 | 0.0222 | 0.0667\n",
        "\n",
        "</center>"
      ],
      "metadata": {
        "id": "dIpU2xxbWAln"
      }
    },
    {
      "cell_type": "markdown",
      "source": [
        "<center>\n",
        "\n",
        "Modelo | Dataset | Seed | Error (train) | Error (test)\n",
        ":---: | :---: | :---: | :---: | :---:\n",
        "QDA | Penguin | 512 | **0.0098** | **0.0000**\n",
        "LDA | Penguin | 512 | 0.0146 | 0.0073\n",
        "QDA | Penguin | 831 | **0.0049** | **0.0219**\n",
        "LDA | Penguin | 831 | 0.0049 | 0.0292\n",
        "\n",
        "</center>"
      ],
      "metadata": {
        "id": "OYiDOyNyWVWI"
      }
    },
    {
      "cell_type": "markdown",
      "source": [
        "Probando con otros dos seeds randoms, las conclusiones previas se mantienen. Al utilizar otros dos valores de random seed (512 y 831), se observa que el modelo **QDA** sigue presentando un menor error en los conjuntos de prueba en comparación con **LDA** para ambos datasets (Iris y Penguin). Esto sugiere que QDA es más robusto frente a variaciones en la partición de los datos y que su superioridad en términos de precisión general es consistente, independientemente de la semilla utilizada para dividir los datos en conjuntos de entrenamiento y prueba."
      ],
      "metadata": {
        "id": "_PqBcBEtNNUy"
      }
    },
    {
      "cell_type": "markdown",
      "source": [
        "### 5. Comparación QDA & TensorizedQDA"
      ],
      "metadata": {
        "id": "ZqW_pUVHyd7H"
      }
    },
    {
      "cell_type": "code",
      "source": [
        "rng_seed = 1234\n",
        "train_x, train_y, test_x, test_y = split_transpose(X_full, y_full, 0.3, rng_seed)\n",
        "\n",
        "qda = QDA()\n",
        "qda.fit(train_x, train_y)\n",
        "\n",
        "tensorized_qda = TensorizedQDA()\n",
        "tensorized_qda.fit(train_x, train_y)"
      ],
      "metadata": {
        "id": "-lZogwn1d5DT"
      },
      "execution_count": null,
      "outputs": []
    },
    {
      "cell_type": "code",
      "source": [
        "%%timeit\n",
        "\n",
        "qda.predict(train_x)"
      ],
      "metadata": {
        "colab": {
          "base_uri": "https://localhost:8080/"
        },
        "id": "ZdpseRa2d3_k",
        "outputId": "067705a7-3027-4b16-d92b-10171ecc6b44"
      },
      "execution_count": null,
      "outputs": [
        {
          "output_type": "stream",
          "name": "stdout",
          "text": [
            "7.61 ms ± 554 µs per loop (mean ± std. dev. of 7 runs, 100 loops each)\n"
          ]
        }
      ]
    },
    {
      "cell_type": "code",
      "source": [
        "%%timeit\n",
        "\n",
        "tensorized_qda.predict(train_x)"
      ],
      "metadata": {
        "id": "MqatHO-Myiqi",
        "colab": {
          "base_uri": "https://localhost:8080/"
        },
        "outputId": "ed6af1a3-eff2-4763-f04b-0a7a24ca934b"
      },
      "execution_count": null,
      "outputs": [
        {
          "output_type": "stream",
          "name": "stdout",
          "text": [
            "2.69 ms ± 249 µs per loop (mean ± std. dev. of 7 runs, 100 loops each)\n"
          ]
        }
      ]
    },
    {
      "cell_type": "markdown",
      "source": [
        "**Resultados**\n",
        "\n",
        "*   QDA 7.48 ms ± 977 µs\n",
        "*   TensorizedQDA 2.51 ms ± 381 µs per loop\n",
        "\n",
        "3 veces mas rapido\n",
        "\n",
        "Esto se debe a que, en clase `TensorizedQDA` utilizando `np.stack` se apila en una nueva dimensión las matrices de covarianza inversas `self.inv_covs` y las medias `self.means`, esto crea un **tensor** de matrices y medias para todas las clases. Luego, se calculan las probabilidades condicionales para todas las clases usando ese tensor creado. En este caso vemos que al utilizar tensores presenta una gran eficiencia respecto a la  clase `QDA` en la cual el cálculo de probabilidad se realiza utilizando **compresión de listas** para cada clase por separado."
      ],
      "metadata": {
        "id": "-iXyIoKSet8R"
      }
    },
    {
      "cell_type": "markdown",
      "source": [
        "## Optimización matemática\n",
        "\n",
        "**Sugerencia:** considerar combinaciones adecuadas de `transpose`, `reshape` y, ocasionalmente, `flatten`. Explorar la dimensionalidad de cada elemento antes de implementar las clases.\n",
        "\n",
        "### QDA\n",
        "\n",
        "Debido a la forma cuadrática de QDA, no se puede predecir para *n* observaciones en una sola pasada (utilizar $X \\in \\mathbb{R}^{p \\times n}$ en vez de $x \\in \\mathbb{R}^p$) sin pasar por una matriz de *n x n* en donde se computan todas las interacciones entre observaciones. Se puede acceder al resultado recuperando sólo la diagonal de dicha matriz, pero resulta ineficiente en tiempo y (especialmente) en memoria. Aún así, es *posible* que el modelo funcione más rápido.\n",
        "\n",
        "1. Implementar el modelo `FasterQDA` (se recomienda heredarlo de TensorizedQDA) de manera de eliminar el ciclo for en el método predict.\n",
        "2. Comparar los tiempos de predicción de `FasterQDA` con `TensorizedQDA` y `QDA`.\n",
        "3. Mostrar (puede ser con un print) dónde aparece la mencionada matriz de *n x n*, donde *n* es la cantidad de observaciones a predecir.\n",
        "4.Demostrar que\n",
        "$$\n",
        "diag(A \\cdot B) = \\sum_{cols} A \\odot B^T = np.sum(A \\odot B^T, axis=1)\n",
        "$$ es decir, que se puede \"esquivar\" la matriz de *n x n* usando matrices de *n x p*.\n",
        "5.Utilizar la propiedad antes demostrada para reimplementar la predicción del modelo `FasterQDA` de forma eficiente. ¿Hay cambios en los tiempos de predicción?\n",
        "\n",
        "\n",
        "### LDA\n",
        "\n",
        "1. \"Tensorizar\" el modelo LDA y comparar sus tiempos de predicción con el modelo antes implementado. *Notar que, en modo tensorizado, se puede directamente precomputar $\\mu^T \\cdot \\Sigma^{-1} \\in \\mathbb{R}^{k \\times 1 \\times p}$ y guardar eso en vez de $\\Sigma^{-1}$.*\n",
        "2. LDA no sufre del problema antes descrito de QDA debido a que no computa productos internos, por lo que no tiene un verdadero costo extra en memoria predecir \"en batch\". Implementar el modelo `FasterLDA` y comparar sus tiempos de predicción con las versiones anteriores de LDA."
      ],
      "metadata": {
        "id": "7M32U5xI-gIv"
      }
    },
    {
      "cell_type": "markdown",
      "source": [
        "### QDA"
      ],
      "metadata": {
        "id": "v8KeW3cB9M2l"
      }
    },
    {
      "cell_type": "markdown",
      "source": [
        "#### 1. FasterQDA"
      ],
      "metadata": {
        "id": "ZVXq-dbG9Z7z"
      }
    },
    {
      "cell_type": "markdown",
      "source": [
        "El objetivo fue eliminar el **bucle for** en el proceso de prediccion de la log condicional. En vez de iterar por cada observacion, se colocaron todas las observaciones en una misma matriz que, luego haberle restado el promedio (unbiased_X) y realizado el producto interno con la inversa de la matriz de covarianza, fue multiplicada nuevamente por la matriz unbiased_X e identificar los valores de la diagonal de la matriz resultante, es decir esta parte de la formula:"
      ],
      "metadata": {
        "id": "jkF3RnC-MRB5"
      }
    },
    {
      "cell_type": "markdown",
      "source": [
        "![Sin título.jpg](data:image/jpeg;base64,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)"
      ],
      "metadata": {
        "id": "UDUbpIXcNxme"
      }
    },
    {
      "cell_type": "markdown",
      "source": [],
      "metadata": {
        "id": "C8dXdZmhNhCk"
      }
    },
    {
      "cell_type": "code",
      "source": [
        "class FasterQDA(TensorizedQDA):\n",
        "\n",
        "    def _predict_log_conditionals(self, X):\n",
        "\n",
        "        unbiased_X = X - self.tensor_means\n",
        "        inv_cov = self.tensor_inv_cov\n",
        "\n",
        "        #Calculamos la primera parte de la multiplicacion\n",
        "        inner_dot = 0.5 * (unbiased_X.transpose(0,2,1) @ inv_cov @ unbiased_X)\n",
        "\n",
        "        self.matrix_n_n = inner_dot\n",
        "        #Obtenemos los valores de la diagonal del tensor (es decir aquellos valores donde se linkean las mismas observaciones)\n",
        "        diagonal_obs = np.diagonal(inner_dot, axis1=1, axis2=2)\n",
        "\n",
        "        # Calculamos el término logarítmico\n",
        "        log_dets = (0.5 * np.log(det(self.tensor_inv_cov))).reshape(3,1)\n",
        "\n",
        "        return log_dets - diagonal_obs\n",
        "\n",
        "    def predict(self, X):\n",
        "        log_posteriors = self.log_a_priori.reshape(3,1) + self._predict_log_conditionals(X)\n",
        "        predictions = np.argmax(log_posteriors, axis=0)\n",
        "        return self.encoder.names[predictions]\n",
        "\n",
        "\n",
        "    def show_matrix(self):\n",
        "        return f\"La matriz tiene {self.matrix_n_n.shape[1]} filas y {self.matrix_n_n.shape[2]} columnas y se printea a continuacion:\",self.matrix_n_n\n",
        "\n"
      ],
      "metadata": {
        "id": "8qc0e1iBASbl"
      },
      "execution_count": null,
      "outputs": []
    },
    {
      "cell_type": "code",
      "source": [
        "rng_seed = 1234\n",
        "train_x, train_y, test_x, test_y = split_transpose(X_full, y_full, 0.3, rng_seed)\n",
        "\n",
        "faster_qda = FasterQDA()\n",
        "faster_qda.fit(train_x, train_y)\n",
        "\n",
        "train_acc = accuracy(train_y, faster_qda.predict(train_x))\n",
        "test_acc = accuracy(test_y, faster_qda.predict(test_x))\n",
        "print(f\"FASTER_QDA -- Train (apparent) error is {1-train_acc:.4f} while test error is {1-test_acc:.4f}\")"
      ],
      "metadata": {
        "colab": {
          "base_uri": "https://localhost:8080/"
        },
        "id": "egf5f0FNCP_2",
        "outputId": "0bd65fb9-f6cc-48fa-d454-3d751be5f6e9"
      },
      "execution_count": null,
      "outputs": [
        {
          "output_type": "stream",
          "name": "stdout",
          "text": [
            "FASTER_QDA -- Train (apparent) error is 0.0222 while test error is 0.0000\n"
          ]
        }
      ]
    },
    {
      "cell_type": "markdown",
      "source": [
        "#### 2. FasterQDA vs TensorizedQDA vs QDA"
      ],
      "metadata": {
        "id": "OxsIpTNF9fcd"
      }
    },
    {
      "cell_type": "code",
      "source": [
        "rng_seed = 1234\n",
        "train_x, train_y, test_x, test_y = split_transpose(X_full, y_full, 0.3, rng_seed)\n",
        "\n",
        "qda = QDA()\n",
        "qda.fit(train_x, train_y)\n",
        "\n",
        "tensorized_qda = TensorizedQDA()\n",
        "tensorized_qda.fit(train_x, train_y)\n",
        "\n",
        "faster_qda = FasterQDA()\n",
        "faster_qda.fit(train_x, train_y)"
      ],
      "metadata": {
        "id": "XqXVuAPi9kFN"
      },
      "execution_count": null,
      "outputs": []
    },
    {
      "cell_type": "code",
      "source": [
        "%%timeit\n",
        "\n",
        "qda.predict(test_x)"
      ],
      "metadata": {
        "colab": {
          "base_uri": "https://localhost:8080/"
        },
        "id": "04IdvNkZyBO_",
        "outputId": "fe6808a0-df35-41d6-af63-30f39f5ea874"
      },
      "execution_count": null,
      "outputs": [
        {
          "output_type": "stream",
          "name": "stdout",
          "text": [
            "6.52 ms ± 791 µs per loop (mean ± std. dev. of 7 runs, 100 loops each)\n"
          ]
        }
      ]
    },
    {
      "cell_type": "code",
      "source": [
        "%%timeit\n",
        "\n",
        "tensorized_qda.predict(test_x)"
      ],
      "metadata": {
        "colab": {
          "base_uri": "https://localhost:8080/"
        },
        "id": "iWHyMs5KyDLz",
        "outputId": "c4504adf-b813-4b95-e243-a5c58fbcc199"
      },
      "execution_count": null,
      "outputs": [
        {
          "output_type": "stream",
          "name": "stdout",
          "text": [
            "1.89 ms ± 298 µs per loop (mean ± std. dev. of 7 runs, 1000 loops each)\n"
          ]
        }
      ]
    },
    {
      "cell_type": "code",
      "source": [
        "%%timeit\n",
        "\n",
        "faster_qda.predict(test_x)"
      ],
      "metadata": {
        "colab": {
          "base_uri": "https://localhost:8080/"
        },
        "id": "BtxLPz8XyDoR",
        "outputId": "312d000f-3ec4-4973-e5ea-70ddb4cc9e53"
      },
      "execution_count": null,
      "outputs": [
        {
          "output_type": "stream",
          "name": "stdout",
          "text": [
            "53 µs ± 980 ns per loop (mean ± std. dev. of 7 runs, 10000 loops each)\n"
          ]
        }
      ]
    },
    {
      "cell_type": "markdown",
      "source": [
        "<center>\n",
        "\n",
        "Modelo | Mean Prediction Time (ms) | Std. dev (ms)\n",
        ":---: | :---: | :---:\n",
        "QDA | 5.98 | 0.39\n",
        "TensorizedQDA | 1.79 | 0.219\n",
        "**FasterQDA** | **0.0572** | **0.001**\n",
        "\n",
        "</center>"
      ],
      "metadata": {
        "id": "Bq9gXq-XySne"
      }
    },
    {
      "cell_type": "markdown",
      "source": [
        "Podemos observar que al eliminar el ciclo for, FasterQDA reduce la sobrecarga de controlar iteraciones individuales, que es más lenta en Python."
      ],
      "metadata": {
        "id": "5MzZt9AtL4n_"
      }
    },
    {
      "cell_type": "markdown",
      "source": [
        "#### 3. Matriz n x n (60 para el caso de test_x)\n"
      ],
      "metadata": {
        "id": "2_9r24e89lJK"
      }
    },
    {
      "cell_type": "code",
      "source": [
        "rng_seed = 1234\n",
        "train_x, train_y, test_x, test_y = split_transpose(X_full, y_full, 0.3, rng_seed)\n",
        "\n",
        "faster_qda = FasterQDA()\n",
        "faster_qda.fit(train_x, train_y)\n",
        "faster_qda.predict(test_x)\n",
        "faster_qda.show_matrix()\n"
      ],
      "metadata": {
        "id": "9cqLXRT9APzy",
        "colab": {
          "base_uri": "https://localhost:8080/"
        },
        "outputId": "8b988fd3-12ce-4c7e-9938-a14434f97870"
      },
      "execution_count": null,
      "outputs": [
        {
          "output_type": "execute_result",
          "data": {
            "text/plain": [
              "('La matriz tiene 60 filas y 60 columnas y se printea a continuacion:',\n",
              " array([[[ 2.30387604e+02,  2.38620670e+02,  3.02063909e+02, ...,\n",
              "           2.56396646e+02,  2.36015737e+02, -4.33013256e+00],\n",
              "         [ 2.38620670e+02,  2.47270868e+02,  3.12658883e+02, ...,\n",
              "           2.65914906e+02,  2.45061305e+02, -4.63012062e+00],\n",
              "         [ 3.02063909e+02,  3.12658883e+02,  3.96583176e+02, ...,\n",
              "           3.34671566e+02,  3.07681438e+02, -5.55428476e+00],\n",
              "         ...,\n",
              "         [ 2.56396646e+02,  2.65914906e+02,  3.34671566e+02, ...,\n",
              "           2.90186422e+02,  2.67634367e+02, -4.77439894e+00],\n",
              "         [ 2.36015737e+02,  2.45061305e+02,  3.07681438e+02, ...,\n",
              "           2.67634367e+02,  2.47514579e+02, -4.76589860e+00],\n",
              "         [-4.33013256e+00, -4.63012062e+00, -5.55428476e+00, ...,\n",
              "          -4.77439894e+00, -4.76589860e+00,  3.62536481e-01]],\n",
              " \n",
              "        [[ 6.40428263e-01,  7.39090776e-01,  1.20725004e+00, ...,\n",
              "           5.72907044e-01,  5.50839524e-01, -1.38467386e+00],\n",
              "         [ 7.39090776e-01,  1.03980538e+00,  2.26714516e+00, ...,\n",
              "           7.14145076e-01,  6.97519372e-01, -4.57712220e+00],\n",
              "         [ 1.20725004e+00,  2.26714516e+00,  8.42004857e+00, ...,\n",
              "           1.50121316e+00,  5.66502876e-01, -2.18817756e+01],\n",
              "         ...,\n",
              "         [ 5.72907044e-01,  7.14145076e-01,  1.50121316e+00, ...,\n",
              "           2.07364772e+00,  1.57156760e+00, -3.36761227e+00],\n",
              "         [ 5.50839524e-01,  6.97519372e-01,  5.66502876e-01, ...,\n",
              "           1.57156760e+00,  1.60282734e+00, -8.14701402e-01],\n",
              "         [-1.38467386e+00, -4.57712220e+00, -2.18817756e+01, ...,\n",
              "          -3.36761227e+00, -8.14701402e-01,  6.47996649e+01]],\n",
              " \n",
              "        [[ 5.99477349e+00,  5.31333101e+00, -2.20939504e-01, ...,\n",
              "           6.68172387e+00,  7.73103436e+00,  2.43450767e+01],\n",
              "         [ 5.31333101e+00,  4.77168715e+00, -4.01026773e-02, ...,\n",
              "           5.81827316e+00,  6.84254544e+00,  2.10101271e+01],\n",
              "         [-2.20939504e-01, -4.01026773e-02,  1.25043129e+00, ...,\n",
              "          -1.40289806e+00, -1.34417562e+00, -4.26452135e+00],\n",
              "         ...,\n",
              "         [ 6.68172387e+00,  5.81827316e+00, -1.40289806e+00, ...,\n",
              "           9.25914947e+00,  1.02308956e+01,  2.97008371e+01],\n",
              "         [ 7.73103436e+00,  6.84254544e+00, -1.34417562e+00, ...,\n",
              "           1.02308956e+01,  1.16007434e+01,  3.35341795e+01],\n",
              "         [ 2.43450767e+01,  2.10101271e+01, -4.26452135e+00, ...,\n",
              "           2.97008371e+01,  3.35341795e+01,  1.08753390e+02]]]))"
            ]
          },
          "metadata": {},
          "execution_count": 35
        }
      ]
    },
    {
      "cell_type": "markdown",
      "source": [
        "#### Ejercicio 4: Demostración de la Propiedad\n",
        "\n",
        "Demostrar que:\n",
        "$$\n",
        "\\text{diag}(A \\cdot B) = \\sum_{\\text{cols}} A \\odot B^T = \\text{np.sum}(A \\odot B^T, \\text{axis}=1)\n",
        "$$\n",
        "Es decir, demostrar que se puede \"esquivar\" la matriz de *n x n* usando matrices de *n x p*.\n",
        "\n",
        "### Resolución\n",
        "\n",
        "Consideremos lo siguiente:\n",
        "- Sea $(A)$ una matriz de dimensiones $( n \\times p )$ y $( B )$ una matriz de dimensiones $( p \\times n )$.\n",
        "- El producto $( A \\cdot B )$ resulta en una matriz de dimensiones $( n \\times n )$.\n",
        "\n",
        "La ( i )-ésima diagonal del producto matricial $( A \\cdot B )$ se puede expresar como:\n",
        "$$\n",
        "\\text{diag}(A \\cdot B)_i = \\sum_{k=1}^{p} A_{ik} \\cdot B_{ki}\n",
        "$$\n",
        "Esto es equivalente a sumar los productos de los elementos correspondientes en la fila ( i ) de $( A )$ y la columna ( i ) de $( B )$, que se corresponde con la operación de producto Hadamard.\n",
        "\n",
        "Al realizar la operación Hadamard $( A \\odot B^T )$, obtenemos una matriz $( C )$ de dimensiones $( n \\times p )$, cuya suma sobre cada fila $(axis=1)$ da el mismo resultado que la diagonal de $( A \\cdot B )$.\n",
        "\n",
        "Por lo tanto, se tiene que:\n",
        "$$\n",
        "\\text{diag}(A \\cdot B)_i = \\sum_{k=1}^{p} C_{ik} = \\text{np.sum}(A \\odot B^T, \\text{axis}=1)_i\n",
        "$$\n",
        "Esto demuestra la equivalencia propuesta."
      ],
      "metadata": {
        "id": "ny5HWXT49sBY"
      }
    },
    {
      "cell_type": "markdown",
      "source": [
        "#### 5. Optimizacion FasterQDA\n",
        "\n",
        "Ahora, utilizando esta propiedad, se puede optimizar la implementación del modelo `FasterQDA` para mejorar la eficiencia en la predicción."
      ],
      "metadata": {
        "id": "g0_d3nxT9vkq"
      }
    },
    {
      "cell_type": "code",
      "source": [
        "class FasterQDA(TensorizedQDA):\n",
        "    def predict(self, X, verbose=False):\n",
        "        m_obs = X.shape[1]\n",
        "        y_hat = np.empty(m_obs, dtype=self.encoder.fmt)\n",
        "\n",
        "        unbiased_X = X - self.tensor_means  # unbiased_X.shape = (3, 4, n)\n",
        "        # Calcular el producto interno usando la propiedad demostrada\n",
        "        inner_prod_diag = np.sum((self.tensor_inv_cov @ unbiased_X) * unbiased_X, axis=1)  # (3, n)\n",
        "\n",
        "        if verbose:\n",
        "            print(f\"Debug -- Inner prod diagonal shape {inner_prod_diag.shape}\")\n",
        "            print(inner_prod_diag)\n",
        "\n",
        "        log_a_priori_per_class = np.tile(self.log_a_priori, (X.shape[1], 1))  # (n, 3)\n",
        "        log_det_inv_cov_per_class = np.tile(np.log(det(self.tensor_inv_cov)), (X.shape[1], 1))  # (n, 3)\n",
        "\n",
        "        m_result = log_a_priori_per_class + (0.5 * log_det_inv_cov_per_class - 0.5 * inner_prod_diag.T)  # all (n, 3)\n",
        "\n",
        "        # argmax to find class with higher result (column index for class with higher result)\n",
        "        encoded_y_hat = np.argmax(m_result, axis=1)  # (n,) encoded classes\n",
        "        y_hat[:len(encoded_y_hat)] = self.encoder.names[encoded_y_hat]\n",
        "        return y_hat.reshape(1, -1)"
      ],
      "metadata": {
        "id": "qHSvoNMRRZJ0"
      },
      "execution_count": null,
      "outputs": []
    },
    {
      "cell_type": "code",
      "source": [
        "rng_seed = 1234\n",
        "train_x, train_y, test_x, test_y = split_transpose(X_full, y_full, 0.3, rng_seed)\n",
        "\n",
        "faster_qda = FasterQDA()\n",
        "faster_qda.fit(train_x, train_y)\n",
        "\n",
        "train_acc = accuracy(train_y, faster_qda.predict(train_x))\n",
        "test_acc = accuracy(test_y, faster_qda.predict(test_x))"
      ],
      "metadata": {
        "id": "NjJfmy80dXgc"
      },
      "execution_count": null,
      "outputs": []
    },
    {
      "cell_type": "code",
      "source": [
        "rng_seed = 1234\n",
        "train_x, train_y, test_x, test_y = split_transpose(X_full, y_full, 0.3, rng_seed)\n",
        "\n",
        "# Este es el nuevo FasterQDA optimizado\n",
        "faster_qda = FasterQDA()\n",
        "faster_qda.fit(train_x, train_y)"
      ],
      "metadata": {
        "id": "gx9l7X2rdf-A"
      },
      "execution_count": null,
      "outputs": []
    },
    {
      "cell_type": "code",
      "source": [
        "%%timeit\n",
        "\n",
        "faster_qda.predict(train_x)"
      ],
      "metadata": {
        "colab": {
          "base_uri": "https://localhost:8080/"
        },
        "id": "GYBmW09adnce",
        "outputId": "85b6d0fb-bf87-4d85-b752-82b6b0430beb"
      },
      "execution_count": null,
      "outputs": [
        {
          "output_type": "stream",
          "name": "stdout",
          "text": [
            "94.4 µs ± 20.5 µs per loop (mean ± std. dev. of 7 runs, 10000 loops each)\n"
          ]
        }
      ]
    },
    {
      "cell_type": "markdown",
      "source": [
        "### LDA"
      ],
      "metadata": {
        "id": "b2Zld8OQ9PQe"
      }
    },
    {
      "cell_type": "markdown",
      "source": [
        "#### 1. LDA Tensorizado"
      ],
      "metadata": {
        "id": "pAUx_-jB6n6N"
      }
    },
    {
      "cell_type": "markdown",
      "source": [
        "\n",
        "*Notar que, en modo tensorizado, se puede directamente precomputar $\\mu^T \\cdot \\Sigma^{-1} \\in \\mathbb{R}^{k \\times 1 \\times p}$ y guardar eso en vez de $\\Sigma^{-1}$.*"
      ],
      "metadata": {
        "id": "2Eo-Ft6hD_vx"
      }
    },
    {
      "cell_type": "code",
      "source": [
        "class TensorizedLDA(LDA):\n",
        "\n",
        "    def _fit_params(self, X, y):\n",
        "        # ask plain LDA to fit params\n",
        "        super()._fit_params(X,y)\n",
        "\n",
        "        self.tensor_inv_cov = self.inv_cov\n",
        "        self.tensor_means = np.stack(self.means)\n",
        "        self.log_det_tensor_inv_cov = 0.5 * np.log(det(self.tensor_inv_cov))\n",
        "\n",
        "    def _predict_log_conditionals(self,x):\n",
        "        unbiased_x = x - self.tensor_means\n",
        "        inner_prod = unbiased_x.transpose(0,2,1) @ self.tensor_inv_cov @ unbiased_x # (3, 1, 4) @ (4, 4) @ (3, 4, 1) => (3, 1, 4) @ (3, 4, 1) => (3, 1, 1)\n",
        "\n",
        "        return self.log_det_tensor_inv_cov - 0.5 * inner_prod.flatten()\n",
        "\n",
        "    def _predict_one(self, x):\n",
        "        # return the class that has maximum a posteriori probability\n",
        "        return np.argmax(self.log_a_priori + self._predict_log_conditionals(x))"
      ],
      "metadata": {
        "id": "ED1MkiL1YF-G"
      },
      "execution_count": null,
      "outputs": []
    },
    {
      "cell_type": "code",
      "source": [
        "rng_seed = 1234\n",
        "train_x, train_y, test_x, test_y = split_transpose(X_full, y_full, 0.3, rng_seed)\n",
        "\n",
        "tensorized_lda = TensorizedLDA()\n",
        "lda = LDA()\n",
        "tensorized_lda.fit(train_x, train_y)\n",
        "lda.fit(train_x, train_y)\n",
        "\n",
        "train_acc = accuracy(train_y, tensorized_lda.predict(train_x))\n",
        "test_acc = accuracy(test_y, tensorized_lda.predict(test_x))\n",
        "print(f\"TENSORIZED_LDA -- Train (apparent) error is {1-train_acc:.4f} while test error is {1-test_acc:.4f}\")\n",
        "train_acc = accuracy(train_y, lda.predict(train_x))\n",
        "test_acc = accuracy(test_y, lda.predict(test_x))\n",
        "print(f\"LDA -- Train (apparent) error is {1-train_acc:.4f} while test error is {1-test_acc:.4f}\")"
      ],
      "metadata": {
        "colab": {
          "base_uri": "https://localhost:8080/"
        },
        "id": "GOH8WxQ5Y6wm",
        "outputId": "4ee794de-6231-4d66-ef36-de43ee79a731"
      },
      "execution_count": null,
      "outputs": [
        {
          "output_type": "stream",
          "name": "stdout",
          "text": [
            "TENSORIZED_LDA -- Train (apparent) error is 0.0222 while test error is 0.0167\n",
            "LDA -- Train (apparent) error is 0.0222 while test error is 0.0167\n"
          ]
        }
      ]
    },
    {
      "cell_type": "markdown",
      "source": [
        "#### 2. FasterLDA vs TensorizedLDA vs LDA"
      ],
      "metadata": {
        "id": "cHiKfl-X6vF7"
      }
    },
    {
      "cell_type": "code",
      "source": [
        "class FasterLDA(TensorizedLDA):\n",
        "\n",
        "    def _predict_log_conditionals(self, X):\n",
        "        unbiased_X = X - self.tensor_means\n",
        "\n",
        "        inner_dot = 0.5 * (unbiased_X.transpose(0, 2, 1) @ self.tensor_inv_cov @ unbiased_X)\n",
        "\n",
        "        # Extrae la diagonal de los productos internos\n",
        "        diagonal_obs = np.diagonal(inner_dot, axis1=1, axis2=2)\n",
        "\n",
        "        log_det_term = self.log_det_tensor_inv_cov\n",
        "\n",
        "        return log_det_term - diagonal_obs\n",
        "\n",
        "    def predict(self, X):\n",
        "        log_posteriors = self.log_a_priori.reshape(3, 1) + self._predict_log_conditionals(X)\n",
        "        predictions = np.argmax(log_posteriors, axis=0)\n",
        "\n",
        "        return self.encoder.names[predictions]"
      ],
      "metadata": {
        "id": "VM_ooKJI65rw"
      },
      "execution_count": null,
      "outputs": []
    },
    {
      "cell_type": "code",
      "source": [
        "rng_seed = 1234\n",
        "train_x, train_y, test_x, test_y = split_transpose(X_full, y_full, 0.3, rng_seed)\n",
        "\n",
        "faster_lda = FasterLDA()\n",
        "faster_lda.fit(train_x, train_y)\n",
        "\n",
        "train_acc = accuracy(train_y, faster_lda.predict(train_x))\n",
        "test_acc = accuracy(test_y, faster_lda.predict(test_x))\n",
        "print(f\"FASTER_LDA -- Train (apparent) error is {1-train_acc:.4f} while test error is {1-test_acc:.4f}\")"
      ],
      "metadata": {
        "id": "hVXs0lRDs5kL",
        "colab": {
          "base_uri": "https://localhost:8080/"
        },
        "outputId": "14cdedf4-122e-4b3d-e1f3-ebcb58e0f9fb"
      },
      "execution_count": null,
      "outputs": [
        {
          "output_type": "stream",
          "name": "stdout",
          "text": [
            "FASTER_LDA -- Train (apparent) error is 0.0222 while test error is 0.0167\n"
          ]
        }
      ]
    },
    {
      "cell_type": "code",
      "source": [
        "lda = LDA()\n",
        "lda.fit(train_x, train_y)\n",
        "\n",
        "tensorized_lda = TensorizedLDA()\n",
        "tensorized_lda.fit(train_x, train_y)\n",
        "\n",
        "faster_lda = FasterLDA()\n",
        "faster_lda.fit(train_x, train_y)"
      ],
      "metadata": {
        "id": "2ILIVd0Ht00p"
      },
      "execution_count": null,
      "outputs": []
    },
    {
      "cell_type": "code",
      "source": [
        "%%timeit\n",
        "\n",
        "lda.predict(train_x)"
      ],
      "metadata": {
        "colab": {
          "base_uri": "https://localhost:8080/"
        },
        "id": "zg3Fhiyft3l0",
        "outputId": "dbb8d710-45b9-4ce1-8441-540d56d09157"
      },
      "execution_count": null,
      "outputs": [
        {
          "output_type": "stream",
          "name": "stdout",
          "text": [
            "7.58 ms ± 1.2 ms per loop (mean ± std. dev. of 7 runs, 100 loops each)\n"
          ]
        }
      ]
    },
    {
      "cell_type": "code",
      "source": [
        "%%timeit\n",
        "\n",
        "tensorized_lda.predict(train_x)"
      ],
      "metadata": {
        "colab": {
          "base_uri": "https://localhost:8080/"
        },
        "id": "1gRY6ZS0t7Q6",
        "outputId": "ed855a2b-7c1c-4474-ae9a-022a598df532"
      },
      "execution_count": null,
      "outputs": [
        {
          "output_type": "stream",
          "name": "stdout",
          "text": [
            "1.87 ms ± 276 µs per loop (mean ± std. dev. of 7 runs, 1000 loops each)\n"
          ]
        }
      ]
    },
    {
      "cell_type": "code",
      "source": [
        "%%timeit\n",
        "\n",
        "faster_lda.predict(train_x)"
      ],
      "metadata": {
        "colab": {
          "base_uri": "https://localhost:8080/"
        },
        "id": "i4TBpnDMt_28",
        "outputId": "d8c786ed-0daf-49cb-9efc-6646ee330c99"
      },
      "execution_count": null,
      "outputs": [
        {
          "output_type": "stream",
          "name": "stdout",
          "text": [
            "65.9 µs ± 13.1 µs per loop (mean ± std. dev. of 7 runs, 10000 loops each)\n"
          ]
        }
      ]
    },
    {
      "cell_type": "markdown",
      "source": [
        "<center>\n",
        "\n",
        "Modelo | Mean Prediction Time (ms) | Std. dev (ms)\n",
        ":---: | :---: | :---:\n",
        "LDA | 8.15 | 1.5\n",
        "TensorizedLDA | 1.88 | 297\n",
        "**FasterLDA** | **65.9µs** | **13.1 µs**\n",
        "\n",
        "</center>"
      ],
      "metadata": {
        "id": "AhGhhFmxuiLV"
      }
    },
    {
      "cell_type": "markdown",
      "source": [
        "## Preguntas teóricas\n",
        "\n",
        "1. En LDA se menciona que la función a maximizar puede ser, mediante operaciones, convertida en:\n",
        "$$\n",
        "\\log{f_j(x)} =  \\mu_j^T \\Sigma^{-1} (x- \\frac{1}{2} \\mu_j) + C'\n",
        "$$\n",
        "Mostrar los pasos por los cuales se llega a dicha expresión.\n",
        "2. Explicar, utilizando las respectivas funciones a maximizar, por qué QDA y LDA son \"quadratic\" y \"linear\".\n",
        "3. La implementación de QDA estima la probabilidad condicional utilizando `0.5*np.log(det(inv_cov)) -0.5 * unbiased_x.T @ inv_cov @ unbiased_x` que no es *exactamente* lo descrito en el apartado teórico ¿Cuáles son las diferencias y por qué son expresiones equivalentes?\n",
        "\n",
        "El espíritu de esta componente práctica es la de establecer un mínimo de trabajo aceptable para su entrega; se invita al alumno a explorar otros aspectos que generen curiosidad, sin sentirse de ninguna manera limitado por la consigna."
      ],
      "metadata": {
        "id": "U7oPeQ0z-pux"
      }
    },
    {
      "cell_type": "markdown",
      "source": [
        "---"
      ],
      "metadata": {
        "id": "8CoC0zVFBUxc"
      }
    },
    {
      "cell_type": "markdown",
      "source": [
        "\n",
        "### 1.\n",
        "\n",
        "Por definición, se tiene que para una clase $j$:\n",
        "\n",
        "$$\n",
        "f_j(x) = \\frac{1}{(2 \\pi)^\\frac{p}{2} \\cdot |\\Sigma|^\\frac{1}{2}} e^{- \\frac{1}{2}(x-\\mu_j)^T \\Sigma^{-1} (x- \\mu_j)}\n",
        "$$\n",
        "\n",
        "*Pasos para llegar a la expresión de la función a maximizar de LDA*\n",
        "\n",
        "**Aplicamos logaritmo natural de \\(f_j(x)\\)**:\n",
        "\n",
        "   $$\n",
        "   \\log f_j(x) = \\log \\left( \\frac{1}{(2\\pi)^{p/2} |\\Sigma|^{1/2}} \\right) - \\frac{1}{2} (x - \\mu_j)^T \\Sigma^{-1} (x - \\mu_j)\n",
        "   $$\n",
        "\n",
        "**Descompocisión el logaritmo del primer término**:\n",
        "\n",
        "   $$\n",
        "   \\log \\left( \\frac{1}{(2\\pi)^{p/2} |\\Sigma|^{1/2}} \\right) = -\\frac{p}{2} \\log(2\\pi) - \\frac{1}{2} \\log |\\Sigma|\n",
        "   $$\n",
        "\n",
        "   Quedando:\n",
        "\n",
        "   $$\n",
        "   \\log f_j(x) = -\\frac{p}{2} \\log(2\\pi) - \\frac{1}{2} \\log |\\Sigma| - \\frac{1}{2} (x - \\mu_j)^T \\Sigma^{-1} (x - \\mu_j)\n",
        "   $$\n",
        "\n",
        "**Simplificando**:\n",
        "\n",
        "   Dado que el término $-\\frac{p}{2} \\log(2\\pi)$ es constante para todas las clases, y el término $-\\frac{1}{2}\\log |\\Sigma|$ es común a todas las clases en el caso de LDA, se pueden agrupar en una constante aditiva, C':\n",
        "\n",
        "   $$\n",
        "   \\log f_j(x) = -\\frac{1}{2} (x - \\mu_j)^T \\Sigma^{-1} (x - \\mu_j) + C'\n",
        "   $$\n",
        "\n",
        "**Expanción del término cuadrático**:\n",
        "\n",
        "   $$\n",
        "   (x - \\mu_j)^T \\Sigma^{-1} (x - \\mu_j) = x^T \\Sigma^{-1} x - 2x^T \\Sigma^{-1} \\mu_j + \\mu_j^T \\Sigma^{-1} \\mu_j\n",
        "   $$\n",
        "\n",
        "Sustituyendo:\n",
        "\n",
        "   $$\n",
        "   \\log f_j(x) = -\\frac{1}{2} \\left( x^T \\Sigma^{-1} x - 2x^T \\Sigma^{-1} \\mu_j + \\mu_j^T \\Sigma^{-1} \\mu_j \\right) + C'\n",
        "   $$\n",
        "\n",
        "**Distribución de $-\\frac{1}{2}$**:\n",
        "\n",
        "   $$\n",
        "   \\log f_j(x) = -\\frac{1}{2} x^T \\Sigma^{-1} x + x^T \\Sigma^{-1} \\mu_j - \\frac{1}{2} \\mu_j^T \\Sigma^{-1} \\mu_j + C'\n",
        "   $$\n",
        "\n",
        "**Simplificando**:\n",
        "\n",
        "\n",
        "   $$\n",
        "   \\log f_j(x) = x^T \\Sigma^{-1} \\mu_j - \\frac{1}{2} \\mu_j^T \\Sigma^{-1} \\mu_j + C'\n",
        "   $$\n",
        "\n",
        "Como:\n",
        "   $$\n",
        "   x^T \\Sigma^{-1} \\mu_j = \\mu_j^T \\Sigma^{-1}x\n",
        "   $$\n",
        "\n",
        "Se llega la fórmula final:\n",
        "   $$\n",
        "   \\log f_j(x) = \\mu_j^T \\Sigma^{-1} (x - \\frac{1}{2} \\mu_j) + C'\n",
        "   $$"
      ],
      "metadata": {
        "id": "HW5MOZVc68j4"
      }
    },
    {
      "cell_type": "markdown",
      "source": [
        "### 2.\n",
        "_QDA_\n",
        "\n",
        "El término `cuadrático` en el Análisis Discriminante Cuadrático (QDA) se refiere a la forma cuadrática de las fronteras de decisión que se generan para clasificar los datos en diferentes clases.\n",
        "\n",
        "Dada la función a maximizar:\n",
        "$$\n",
        "\\log{f_j(x)} = -\\frac{1}{2}\\log |\\Sigma_j| - \\frac{1}{2} (x-\\mu_j)^T \\Sigma_j^{-1} (x- \\mu_j) + C\n",
        "$$\n",
        "\n",
        "El término:\n",
        "$$\n",
        "(x-\\mu_j)^T \\Sigma_j^{-1} (x- \\mu_j)\n",
        "$$\n",
        "\n",
        "es una forma cuadrática en $x$, lo que significa que cuando se iguala a los discriminantes de dos clases para encontrar la frontera de decisión, se obtiene una ecuación cuadrática en $x$. Esto permite mayor flexibilidad en la clasificación,  sobre todo cuando las clases tienen diferentes estructuras de covarianza.\n",
        "\n",
        "_LDA_\n",
        "\n",
        "El término `lineal` en el Análisis Discriminante Lineal (LDA) se refiere a que las fronteras de decisión que se generan para clasificar los datos en diferentes clases son hiperplanos, es decir, superficies de separación lineales.\n",
        "\n",
        "Dada la función a maximizar:\n",
        "$$\n",
        "\\log{f_j(x)} =  \\mu_j^T \\Sigma^{-1} (x- \\frac{1}{2} \\mu_j) + C'\n",
        "$$\n",
        "\n",
        "El término:\n",
        "$$\n",
        " \\mu_j^T \\Sigma^{-1} x\n",
        "$$\n",
        "es una combinación lineal de las características $x$.\n"
      ],
      "metadata": {
        "id": "d5nDPaXS6_kS"
      }
    },
    {
      "cell_type": "markdown",
      "source": [
        "### 3.\n",
        "\n",
        "Fórmula _QDA_:\n",
        "\n",
        "$$\n",
        "\\log{f_j(x)} = -\\frac{1}{2}\\log |\\Sigma_j| - \\frac{1}{2} (x-\\mu_j)^T \\Sigma_j^{-1} (x- \\mu_j) + C\n",
        "$$\n",
        "\n",
        "Código:\n",
        "\n",
        "`0.5*np.log(det(inv_cov)) -0.5 * unbiased_x.T @ inv_cov @ unbiased_x`\n",
        "\n",
        "**Primer término**\n",
        "\n",
        "$$\n",
        "-\\frac{1}{2}\\log |\\Sigma_j| = 0.5 \\cdot \\text{np.log(det(inv_cov))}\n",
        "$$\n",
        "\n",
        "\n",
        "> Relación: existe una propiedad del determinante que dice que, si se tiene el determinante de la matriz de covarianza inversa, su logaritmo es el negativo del logaritmo del determinante de la matriz de covarianza original Σ𝑗.\n",
        "\n",
        "\n",
        "**Segundo término**\n",
        "\n",
        "<center>\n",
        "\n",
        "Fórmula matemática |  Código\n",
        ":---: | :---:\n",
        " 𝑥−𝜇𝑗  |  unbiased_x = x - self.means[class_idx]\n",
        "$(x-\\mu_j)^T$ | unbiased_x.T\n",
        "$\\Sigma_j^{-1}$ |  inv_cov = self.inv_covs[class_idx]\n",
        "-1/2​ | −0.5\n",
        "$(x-\\mu_j)^T \\Sigma_j^{-1} (x- \\mu_j)$ | unbiased_x.T @ inv_cov @ unbiased_x\n",
        "\n",
        "</center>\n",
        "\n",
        "> Con respecto al producto matricial, el código correspondiente realiza el mismo cálculo que la fórmula matemática utilizando operaciones matriciales de NumPy.\n",
        "\n",
        "**Tercer término**\n",
        "\n",
        "> La constante $C$ se omite en el cálculo de la probabilidad condicional, ya que  no afecta la comparación de clases al predecir la clase más probable.\n"
      ],
      "metadata": {
        "id": "uSnegqDT6_U8"
      }
    },
    {
      "cell_type": "markdown",
      "source": [
        "## Ejercicio teórico\n",
        "\n",
        "Sea una red neuronal de dos capas, la primera de 3 neuronas y la segunda de 1 con los parámetros inicializados con los siguientes valores:\n",
        "$$\n",
        "w^{(1)} =\n",
        "\\begin{pmatrix}\n",
        "0.1 & -0.5 \\\\\n",
        "-0.3 & -0.9 \\\\\n",
        "0.8 & 0.02\n",
        "\\end{pmatrix},\n",
        "b^{(1)} = \\begin{pmatrix}\n",
        "0.1 \\\\\n",
        "0.5 \\\\\n",
        "0.8\n",
        "\\end{pmatrix},\n",
        "w^{(2)} =\n",
        "\\begin{pmatrix}\n",
        "-0.4 & 0.2 & -0.5\n",
        "\\end{pmatrix},\n",
        "b^{(2)} = 0.7\n",
        "$$\n",
        "\n",
        "y donde cada capa calcula su salida vía\n",
        "\n",
        "$$\n",
        "y^{(i)} = \\sigma (w^{(i)} \\cdot x^{(i)}+b^{(i)})\n",
        "$$\n",
        "\n",
        "donde $\\sigma (z) = \\frac{1}{1+e^{-z}}$ es la función sigmoidea .\n",
        "\n",
        "\\\\\n",
        "Dada la observación $x=\\begin{pmatrix}\n",
        "1.8 \\\\\n",
        "-3.4\n",
        "\\end{pmatrix}$, $y=5$ y la función de costo $J(\\theta)=\\frac{1}{2}(\\hat{y}_\\theta-y)^2$, calcular las derivadas de J respecto de cada parámetro $w^{(1)}$, $w^{(2)}$, $b^{(1)}$, $b^{(2)}$.\n",
        "\n",
        "*Nota: Con una sigmoidea a la salida jamás va a poder estimar el 5 \"pedido\", pero eso no afecta al mecanismo de backpropagation!*"
      ],
      "metadata": {
        "id": "CpOoxE2d-mOY"
      }
    },
    {
      "cell_type": "markdown",
      "source": [
        "### Resolución\n",
        "\n",
        "#### 1. **Forward Pass**\n",
        "\n",
        "Primero, realizamos el \"forward pass\" para calcular la salida de la red.\n",
        "\n",
        "- **Capa 1**:\n",
        "  \n",
        "  $$\n",
        "  z^{(1)} = w^{(1)} \\cdot x + b^{(1)} =\n",
        "  \\begin{pmatrix}\n",
        "  0.1 & -0.5 \\\\\n",
        "  -0.3 & -0.9 \\\\\n",
        "  0.8 & 0.02\n",
        "  \\end{pmatrix}\n",
        "  \\begin{pmatrix}\n",
        "  1.8 \\\\\n",
        "  -3.4\n",
        "  \\end{pmatrix}\n",
        "  +\n",
        "  \\begin{pmatrix}\n",
        "  0.1 \\\\\n",
        "  0.5 \\\\\n",
        "  0.8\n",
        "  \\end{pmatrix}\n",
        "  $$\n",
        "\n",
        "  Calculamos $ z^{(1)} $:\n",
        "\n",
        "  $$\n",
        "  z^{(1)} =\n",
        "  \\begin{pmatrix}\n",
        "  0.1 \\times 1.8 + (-0.5) \\times (-3.4) + 0.1 \\\\\n",
        "  -0.3 \\times 1.8 + (-0.9) \\times (-3.4) + 0.5 \\\\\n",
        "  0.8 \\times 1.8 + 0.02 \\times (-3.4) + 0.8\n",
        "  \\end{pmatrix}\n",
        "  =\n",
        "  \\begin{pmatrix}\n",
        "  2.0 \\\\\n",
        "  3.88 \\\\\n",
        "  2.984\n",
        "  \\end{pmatrix}\n",
        "  $$\n",
        "\n",
        "  Aplicamos la función sigmoidea:\n",
        "\n",
        "  $$\n",
        "  a^{(1)} = \\sigma(z^{(1)}) =\n",
        "  \\begin{pmatrix}\n",
        "  \\sigma(2.0) \\\\\n",
        "  \\sigma(3.88) \\\\\n",
        "  \\sigma(2.984)\n",
        "  \\end{pmatrix}\n",
        "  =\n",
        "  \\begin{pmatrix}\n",
        "  0.8808 \\\\\n",
        "  0.9798 \\\\\n",
        "  0.9518\n",
        "  \\end{pmatrix}\n",
        "  $$\n",
        "\n",
        "- **Capa 2**:\n",
        "\n",
        "  $$\n",
        "  z^{(2)} = w^{(2)} \\cdot a^{(1)} + b^{(2)} =\n",
        "  \\begin{pmatrix}\n",
        "  -0.4 & 0.2 & -0.5\n",
        "  \\end{pmatrix}\n",
        "  \\begin{pmatrix}\n",
        "  0.8808 \\\\\n",
        "  0.9798 \\\\\n",
        "  0.9518\n",
        "  \\end{pmatrix}\n",
        "  + 0.7\n",
        "  $$\n",
        "\n",
        "  Calculamos $ z^{(2)} $:\n",
        "\n",
        "  $$\n",
        "  z^{(2)} =\n",
        "  -0.4 \\times 0.8808 + 0.2 \\times 0.9798 - 0.5 \\times 0.9518 + 0.7 = -0.3523 + 0.19596 - 0.4759 + 0.7 = 0.06776\n",
        "  $$\n",
        "\n",
        "  Aplicamos la función sigmoidea para obtener la predicción $( \\hat{y} )$:\n",
        "\n",
        "  $$\n",
        "  \\hat{y} = \\sigma(z^{(2)}) = \\sigma(0.06776) = 0.5169\n",
        "  $$\n",
        "\n",
        "#### 2. **Backward Pass (Cálculo de Gradientes)**\n",
        "\n",
        "Ahora calculamos las derivadas de la función de costo $( J(\\theta) )$ con respecto a los parámetros usando backpropagation.\n",
        "\n",
        "- **Capa 2**:\n",
        "\n",
        "  $$\n",
        "  \\frac{\\partial J}{\\partial z^{(2)}} = \\hat{y} - y = 0.5169 - 5 = -4.4831\n",
        "  $$\n",
        "\n",
        "  - Derivada respecto a $ w^{(2)} $:\n",
        "  \n",
        "  $$\n",
        "  \\frac{\\partial J}{\\partial w^{(2)}} = \\frac{\\partial J}{\\partial z^{(2)}} \\cdot \\frac{\\partial z^{(2)}}{\\partial w^{(2)}} = -4.4831 \\cdot a^{(1)} =\n",
        "  \\begin{pmatrix}\n",
        "  -4.4831 \\times 0.8808 \\\\\n",
        "  -4.4831 \\times 0.9798 \\\\\n",
        "  -4.4831 \\times 0.9518\n",
        "  \\end{pmatrix}\n",
        "    =\n",
        "  \\begin{pmatrix}\n",
        "  -3.948 \\\\\n",
        "  -4.391 \\\\\n",
        "  -4.267\n",
        "  \\end{pmatrix}\n",
        "  $$\n",
        "\n",
        "  - Derivada respecto a $ b^{(2)} $:\n",
        "\n",
        "  $$\n",
        "  \\frac{\\partial J}{\\partial b^{(2)}} = \\frac{\\partial J}{\\partial z^{(2)}} = -4.4831\n",
        "   $$\n",
        "\n",
        "- **Capa 1**:\n",
        "\n",
        "  Calculamos primero $ \\frac{\\partial J}{\\partial a^{(1)}} $ y luego $ \\frac{\\partial J}{\\partial z^{(1)}} $:\n",
        "\n",
        "  $$\n",
        "  \\frac{\\partial J}{\\partial a^{(1)}} = \\frac{\\partial J}{\\partial z^{(2)}} \\cdot w^{(2)} =\n",
        "  -4.4831 \\cdot\n",
        "  \\begin{pmatrix}\n",
        "  -0.4 \\\\\n",
        "  0.2 \\\\\n",
        "  -0.5\n",
        "  \\end{pmatrix}\n",
        "  =\n",
        "  \\begin{pmatrix}\n",
        "  1.7932 \\\\\n",
        "  -0.8966 \\\\\n",
        "  2.24155\n",
        "  \\end{pmatrix}\n",
        "  $$\n",
        "\n",
        "  Luego, usamos la derivada de la función sigmoidea:\n",
        "\n",
        "  $$\n",
        "  \\frac{\\partial J}{\\partial z^{(1)}} = \\frac{\\partial J}{\\partial a^{(1)}} \\cdot \\sigma'(z^{(1)}) =\n",
        "  \\frac{\\partial J}{\\partial a^{(1)}} \\cdot a^{(1)} \\cdot (1 - a^{(1)})\n",
        "  $$\n",
        "\n",
        "  Calculamos $ \\sigma'(z^{(1)}) $:\n",
        "\n",
        "  $$\n",
        "  \\sigma'(z^{(1)}) =\n",
        "  \\begin{pmatrix}\n",
        "  0.8808 \\times (1 - 0.8808) \\\\\n",
        "  0.9798 \\times (1 - 0.9798) \\\\\n",
        "  0.9518 \\times (1 - 0.9518)\n",
        "  \\end{pmatrix}\n",
        "  =\n",
        "  \\begin{pmatrix}\n",
        "  0.1048 \\\\\n",
        "  0.0197 \\\\\n",
        "  0.0459\n",
        "  \\end{pmatrix}\n",
        "  $$\n",
        "\n",
        "  Multiplicamos para obtener $ \\frac{\\partial J}{\\partial z^{(1)}} $:\n",
        "\n",
        "  $$\n",
        "  \\frac{\\partial J}{\\partial z^{(1)}} =\n",
        "  \\begin{pmatrix}\n",
        "  1.7932 \\times 0.1048 \\\\\n",
        "  -0.8966 \\times 0.0197 \\\\\n",
        "  2.24155 \\times 0.0459\n",
        "  \\end{pmatrix}\n",
        "  =\n",
        "  \\begin{pmatrix}\n",
        "  0.1879 \\\\\n",
        "  -0.0177 \\\\\n",
        "  0.1029\n",
        "  \\end{pmatrix}\n",
        "  $$\n",
        "\n",
        "  - Derivadas respecto a $ w^{(1)} $:\n",
        "\n",
        "  $$\n",
        "  \\frac{\\partial J}{\\partial w^{(1)}} = \\frac{\\partial J}{\\partial z^{(1)}} \\cdot x^T =\n",
        "  \\begin{pmatrix}\n",
        "  0.1879 \\times 1.8 & 0.1879 \\times -3.4 \\\\\n",
        "  -0.0177 \\times 1.8 & -0.0177 \\times -3.4 \\\\\n",
        "  0.1029 \\times 1.8 & 0.1029 \\times -3.4\n",
        "  \\end{pmatrix}\n",
        "    =\n",
        "  \\begin{pmatrix}\n",
        "  0.3383 & -0.6389 \\\\\n",
        "  -0.0319 & 0.06018 \\\\\n",
        "  0.1852 & -0.350\n",
        "  \\end{pmatrix}\n",
        "  $$\n",
        "\n",
        "  - Derivadas respecto a $ b^{(1)} $:\n",
        "\n",
        "  $$\n",
        "  \\frac{\\partial J}{\\partial b^{(1)}} = \\frac{\\partial J}{\\partial z^{(1)}} =\n",
        "  \\begin{pmatrix}\n",
        "  0.1879 \\\\\n",
        "  -0.0177 \\\\\n",
        "  0.1029\n",
        "  \\end{pmatrix}\n",
        "  $$\n",
        "\n",
        "### Resumen de Gradientes\n",
        "\n",
        "- $ \\frac{\\partial J}{\\partial w^{(1)}} $:\n",
        "\n",
        "  $$\n",
        "  \\begin{pmatrix}\n",
        "  0.3383 & -0.6389 \\\\\n",
        "  -0.0319 & 0.06018 \\\\\n",
        "  0.1852 & -0.350\n",
        "  \\end{pmatrix}\n",
        "  $$\n",
        "\n",
        "- $ \\frac{\\partial J}{\\partial b^{(1)}} $:\n",
        "\n",
        "  $$\n",
        "  \\begin{pmatrix}\n",
        "  0.1879 \\\\\n",
        "  -0.0177 \\\\\n",
        "  0.1029\n",
        "  \\end{pmatrix}\n",
        "  $$\n",
        "\n",
        "- $ \\frac{\\partial J}{\\partial w^{(2)}} $:\n",
        "\n",
        "  $$\n",
        "  \\begin{pmatrix}\n",
        "  -3.948 \\\\\n",
        "  -4.391 \\\\\n",
        "  -4.267\n",
        "  \\end{pmatrix}\n",
        "  $$\n",
        "\n",
        "- $ \\frac{\\partial J}{\\partial b^{(2)}} = -4.4831 $\n"
      ],
      "metadata": {
        "id": "Pb0em84cEuT5"
      }
    },
    {
      "cell_type": "markdown",
      "source": [
        "## Preguntas en el código\n",
        "Previamente las preguntas \"técnicas\" en comentarios en el código eran parte del TP, y buscaban que el alumno logre entrar en el detalle de por qué cada linea de código es como es y en el orden en el que está. Ya no forman parte de la consigna, pero se aconseja al alumno intentar responderlas. Las respuestas a las mismas se encuentran en un archivo separado."
      ],
      "metadata": {
        "id": "z-CNlW06-i-u"
      }
    }
  ]
}